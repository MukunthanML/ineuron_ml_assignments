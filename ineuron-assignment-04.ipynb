{
 "cells": [
  {
   "cell_type": "markdown",
   "metadata": {},
   "source": [
    "# Assignment 04\n",
    "Date: 03/28/2020\n",
    "\n",
    "Name: Mukunthan Ragavan"
   ]
  },
  {
   "cell_type": "markdown",
   "metadata": {},
   "source": [
    "## Write a function to compute 5/0 and use try/except to catch the exceptions."
   ]
  },
  {
   "cell_type": "code",
   "execution_count": 54,
   "metadata": {},
   "outputs": [
    {
     "name": "stdout",
     "output_type": "stream",
     "text": [
      "Error detail:  division by zero\n",
      "Finally block code\n"
     ]
    }
   ],
   "source": [
    "try:\n",
    "    a=5/0\n",
    "except ZeroDivisionError as zde:\n",
    "    print('Error detail: ', zde)\n",
    "except Exception as e:\n",
    "    print(e)\n",
    "else:\n",
    "    print('Code fully executed')\n",
    "finally:\n",
    "    print('Finally block code')\n",
    "    "
   ]
  },
  {
   "cell_type": "markdown",
   "metadata": {},
   "source": [
    "## Implement a Python program to generate all sentences where subject is in [\"Americans\", \"Indians\"] and verb is in [\"Play\", \"watch\"] and the object is in [\"Baseball\",\"cricket\"].\n"
   ]
  },
  {
   "cell_type": "markdown",
   "metadata": {},
   "source": [
    "Hint: Subject,Verb and Object should be declared in the program as shown below.\n",
    "\n",
    "subjects=[\"Americans \",\"Indians\"]\n",
    "\n",
    "verbs=[\"play\",\"watch\"]\n",
    "\n",
    "objects=[\"Baseball\",\"Cricket\"]"
   ]
  },
  {
   "cell_type": "code",
   "execution_count": 55,
   "metadata": {},
   "outputs": [],
   "source": [
    "subjects=[\"Americans \",\"Indians\"]\n",
    "verbs=[\"play\",\"watch\"]\n",
    "objects=[\"Baseball\",\"Cricket\"]"
   ]
  },
  {
   "cell_type": "code",
   "execution_count": 56,
   "metadata": {},
   "outputs": [
    {
     "name": "stdout",
     "output_type": "stream",
     "text": [
      "Americans  play Baseball\n",
      "Americans  play Cricket\n",
      "Americans  watch Baseball\n",
      "Americans  watch Cricket\n",
      "Indians play Baseball\n",
      "Indians play Cricket\n",
      "Indians watch Baseball\n",
      "Indians watch Cricket\n"
     ]
    }
   ],
   "source": [
    "for subject in subjects:\n",
    "    for verb in verbs:\n",
    "        for obj in objects:\n",
    "            print(subject,verb, obj)"
   ]
  },
  {
   "cell_type": "markdown",
   "metadata": {},
   "source": [
    "# Write a function so that the columns of the output matrix are powers of the input vector.\n",
    "The order of the powers is determined by the increasing boolean argument. Specifically, when\n",
    "increasing is False, the i-th output column is the input vector raised element-wise to the power\n",
    "of N - i - 1.\n",
    "\n",
    "HINT: Such a matrix with a geometric progression in each row is named for Alexandre-\n",
    "Theophile Vandermonde."
   ]
  },
  {
   "cell_type": "code",
   "execution_count": 57,
   "metadata": {},
   "outputs": [],
   "source": [
    "import numpy as np"
   ]
  },
  {
   "cell_type": "code",
   "execution_count": 68,
   "metadata": {},
   "outputs": [],
   "source": [
    "## Approach one\n",
    "def generate_vander(vector, N, increase=False):  #np.vander(vector,5, True)  Existing numpy builtin function\n",
    "    '''\n",
    "    this function return vander matrix\n",
    "    Length of vector decides the no.of rows in resultant matrix\n",
    "    N decides the no.of coloumns in resultant matrix\n",
    "    \n",
    "    '''\n",
    "    try:\n",
    "        if increase:\n",
    "            return np.array([x**i for x in vector for i in range(N)]).reshape(vector.size, N)\n",
    "            # decides no of rows in output matrix  and N decides no.of cols\n",
    "        else increase:\n",
    "            return np.array([x** (N - i - 1) for x in vector for i in range(N)]).reshape(vector.size, N)\n",
    "    except Exception as e:\n",
    "        print('Exception occurred and details are: ', e)\n",
    "        "
   ]
  },
  {
   "cell_type": "code",
   "execution_count": 69,
   "metadata": {},
   "outputs": [],
   "source": [
    "## Approach two\n",
    "def generate_vander_using_flip(vector, N, increase=False):  #np.vander(vector,5, True)  Existing numpy builtin function\n",
    "    '''\n",
    "    this function return vander matrix\n",
    "    Length of vector decides the no.of rows in resultant matrix\n",
    "    N decides the no.of coloumns in resultant matrix\n",
    "    \n",
    "    '''\n",
    "    try:\n",
    "        \n",
    "        result_vander = np.array([x**i for x in vector for i in range(N)]).reshape(vector.size, N)\n",
    "\n",
    "        if increase:\n",
    "            return result_vander\n",
    "            # decides no of rows in output matrix  and N decides no.of cols\n",
    "        else:\n",
    "            return np.flip(result_vander, axis=1) #reverse contents of each row in the Numpy Array\n",
    "    except Exception as e:\n",
    "        print('Exception occurred and details are: ', e)\n",
    "        "
   ]
  },
  {
   "cell_type": "code",
   "execution_count": 70,
   "metadata": {},
   "outputs": [],
   "source": [
    "vector = np.array([1, 2, 3, 5,9])"
   ]
  },
  {
   "cell_type": "code",
   "execution_count": 71,
   "metadata": {},
   "outputs": [
    {
     "data": {
      "text/plain": [
       "array([[   1,    1,    1,    1,    1],\n",
       "       [  16,    8,    4,    2,    1],\n",
       "       [  81,   27,    9,    3,    1],\n",
       "       [ 625,  125,   25,    5,    1],\n",
       "       [6561,  729,   81,    9,    1]])"
      ]
     },
     "execution_count": 71,
     "metadata": {},
     "output_type": "execute_result"
    }
   ],
   "source": [
    "generate_vander(vector,5)"
   ]
  },
  {
   "cell_type": "code",
   "execution_count": 72,
   "metadata": {},
   "outputs": [
    {
     "data": {
      "text/plain": [
       "array([[   1,    1,    1,    1,    1],\n",
       "       [   1,    2,    4,    8,   16],\n",
       "       [   1,    3,    9,   27,   81],\n",
       "       [   1,    5,   25,  125,  625],\n",
       "       [   1,    9,   81,  729, 6561]])"
      ]
     },
     "execution_count": 72,
     "metadata": {},
     "output_type": "execute_result"
    }
   ],
   "source": [
    "generate_vander(vector,5,increase=True)"
   ]
  },
  {
   "cell_type": "code",
   "execution_count": 73,
   "metadata": {},
   "outputs": [
    {
     "data": {
      "text/plain": [
       "array([[   1,    1,    1,    1,    1],\n",
       "       [  16,    8,    4,    2,    1],\n",
       "       [  81,   27,    9,    3,    1],\n",
       "       [ 625,  125,   25,    5,    1],\n",
       "       [6561,  729,   81,    9,    1]])"
      ]
     },
     "execution_count": 73,
     "metadata": {},
     "output_type": "execute_result"
    }
   ],
   "source": [
    "generate_vander_using_flip(vector,5)"
   ]
  },
  {
   "cell_type": "code",
   "execution_count": 74,
   "metadata": {},
   "outputs": [
    {
     "data": {
      "text/plain": [
       "array([[   1,    1,    1,    1,    1],\n",
       "       [   1,    2,    4,    8,   16],\n",
       "       [   1,    3,    9,   27,   81],\n",
       "       [   1,    5,   25,  125,  625],\n",
       "       [   1,    9,   81,  729, 6561]])"
      ]
     },
     "execution_count": 74,
     "metadata": {},
     "output_type": "execute_result"
    }
   ],
   "source": [
    "generate_vander_using_flip(vector,5,increase=True)"
   ]
  },
  {
   "cell_type": "code",
   "execution_count": 77,
   "metadata": {
    "scrolled": false
   },
   "outputs": [
    {
     "name": "stdout",
     "output_type": "stream",
     "text": [
      "Exception occurred and details are:  unsupported operand type(s) for ** or pow(): 'str' and 'int'\n"
     ]
    }
   ],
   "source": [
    "generate_vander('test',5,increase=True)"
   ]
  },
  {
   "cell_type": "code",
   "execution_count": 78,
   "metadata": {},
   "outputs": [
    {
     "name": "stdout",
     "output_type": "stream",
     "text": [
      "Exception occurred and details are:  unsupported operand type(s) for ** or pow(): 'str' and 'int'\n"
     ]
    }
   ],
   "source": [
    "generate_vander('test',5)"
   ]
  },
  {
   "cell_type": "code",
   "execution_count": 79,
   "metadata": {},
   "outputs": [
    {
     "name": "stdout",
     "output_type": "stream",
     "text": [
      "Exception occurred and details are:  'int' object is not iterable\n"
     ]
    }
   ],
   "source": [
    "generate_vander_using_flip(147,5,increase=True)"
   ]
  },
  {
   "cell_type": "markdown",
   "metadata": {},
   "source": [
    "# Thanks for your time !"
   ]
  },
  {
   "cell_type": "code",
   "execution_count": null,
   "metadata": {},
   "outputs": [],
   "source": []
  }
 ],
 "metadata": {
  "kernelspec": {
   "display_name": "Python 3",
   "language": "python",
   "name": "python3"
  },
  "language_info": {
   "codemirror_mode": {
    "name": "ipython",
    "version": 3
   },
   "file_extension": ".py",
   "mimetype": "text/x-python",
   "name": "python",
   "nbconvert_exporter": "python",
   "pygments_lexer": "ipython3",
   "version": "3.7.4"
  }
 },
 "nbformat": 4,
 "nbformat_minor": 4
}
