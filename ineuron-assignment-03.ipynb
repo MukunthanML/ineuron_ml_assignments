{
 "cells": [
  {
   "cell_type": "markdown",
   "metadata": {},
   "source": [
    "# Assignment 03\n",
    "Date: 03/22/2020\n",
    "\n",
    "Name: Mukunthan Ragavan"
   ]
  },
  {
   "cell_type": "markdown",
   "metadata": {},
   "source": [
    "Problem: Child class inherits from two classes (P1, P2) - multiple inheritance.\n",
    "    User should be able to call \n",
    "    * Child's test()\n",
    "    * P1's test() \n",
    "    * P2's test() \n",
    "regardless of mro() - method resolution order."
   ]
  },
  {
   "cell_type": "code",
   "execution_count": 11,
   "metadata": {},
   "outputs": [],
   "source": [
    "class P1:\n",
    "    def test(self):\n",
    "        print('P1 test method')\n",
    "\n",
    "class P2:\n",
    "    def test(self):\n",
    "        print('P2 test method')\n",
    "\n",
    "class Child(P1,P2):\n",
    "    def test(self):\n",
    "        print('Child test method')\n",
    "\n",
    "\n",
    "    def approach_one(self):\n",
    "        Child.test(self) # calling current class'instance method\n",
    "        P1.test(self)  # calling P1 class instance method\n",
    "        P2.test(self)  # calling P2 class instance method\n",
    "        \n",
    "    def approach_two(self):\n",
    "        l=Child.mro() \n",
    "        l[0].test(self)  # calling current class'instance method\n",
    "        l[1].test(self)  # calling first parent class instance method\n",
    "        l[2].test(self)  # calling second parent class instance method\n",
    "\n",
    "\n",
    "\n",
    "#https://www.python-course.eu/python3_multiple_inheritance.php"
   ]
  },
  {
   "cell_type": "code",
   "execution_count": 12,
   "metadata": {},
   "outputs": [],
   "source": [
    "c1=Child()"
   ]
  },
  {
   "cell_type": "code",
   "execution_count": 14,
   "metadata": {},
   "outputs": [
    {
     "name": "stdout",
     "output_type": "stream",
     "text": [
      "Child test method\n",
      "P1 test method\n",
      "P2 test method\n"
     ]
    }
   ],
   "source": [
    "c1.approach_one()"
   ]
  },
  {
   "cell_type": "code",
   "execution_count": 15,
   "metadata": {},
   "outputs": [
    {
     "name": "stdout",
     "output_type": "stream",
     "text": [
      "Child test method\n",
      "P1 test method\n",
      "P2 test method\n"
     ]
    }
   ],
   "source": [
    "c1.approach_two()"
   ]
  }
 ],
 "metadata": {
  "kernelspec": {
   "display_name": "Python 3",
   "language": "python",
   "name": "python3"
  },
  "language_info": {
   "codemirror_mode": {
    "name": "ipython",
    "version": 3
   },
   "file_extension": ".py",
   "mimetype": "text/x-python",
   "name": "python",
   "nbconvert_exporter": "python",
   "pygments_lexer": "ipython3",
   "version": "3.7.4"
  }
 },
 "nbformat": 4,
 "nbformat_minor": 2
}
