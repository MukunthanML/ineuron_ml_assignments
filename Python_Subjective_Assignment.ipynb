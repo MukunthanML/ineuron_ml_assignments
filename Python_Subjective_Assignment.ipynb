{
 "cells": [
  {
   "cell_type": "markdown",
   "metadata": {},
   "source": [
    "# Python Subjective Assignment\n",
    "\n",
    "## Name: Mukunthan Ragavan\n",
    "## Start Date: 12/4/2020"
   ]
  },
  {
   "cell_type": "raw",
   "metadata": {},
   "source": [
    "Q1. Write a Python program to get the string from the given string where\n",
    "all the occurrence of its first char has been changed to '$,' except first\n",
    "char itself?\n",
    "Sample String: 'prospect'\n",
    "Expected Result : 'pros$ect'"
   ]
  },
  {
   "cell_type": "code",
   "execution_count": 11,
   "metadata": {},
   "outputs": [],
   "source": [
    "def get_string(string):\n",
    "    if (type(string)!=str): raise ValueError\n",
    "    par_result =string[1:].replace(string[0],'$')\n",
    "    return (string[0]+par_result)  "
   ]
  },
  {
   "cell_type": "code",
   "execution_count": 12,
   "metadata": {},
   "outputs": [
    {
     "name": "stdout",
     "output_type": "stream",
     "text": [
      "abc$fhe$\n"
     ]
    }
   ],
   "source": [
    "print(get_string('abcafhea'))"
   ]
  },
  {
   "cell_type": "code",
   "execution_count": 13,
   "metadata": {
    "collapsed": true
   },
   "outputs": [
    {
     "ename": "ValueError",
     "evalue": "",
     "output_type": "error",
     "traceback": [
      "\u001b[0;31m---------------------------------------------------------------------------\u001b[0m",
      "\u001b[0;31mValueError\u001b[0m                                Traceback (most recent call last)",
      "\u001b[0;32m<ipython-input-13-01a58dec363c>\u001b[0m in \u001b[0;36m<module>\u001b[0;34m\u001b[0m\n\u001b[0;32m----> 1\u001b[0;31m \u001b[0mprint\u001b[0m\u001b[0;34m(\u001b[0m\u001b[0mget_string\u001b[0m\u001b[0;34m(\u001b[0m\u001b[0;36m1555\u001b[0m\u001b[0;34m)\u001b[0m\u001b[0;34m)\u001b[0m\u001b[0;34m\u001b[0m\u001b[0;34m\u001b[0m\u001b[0m\n\u001b[0m",
      "\u001b[0;32m<ipython-input-11-81f3646c4367>\u001b[0m in \u001b[0;36mget_string\u001b[0;34m(string)\u001b[0m\n\u001b[1;32m      1\u001b[0m \u001b[0;32mdef\u001b[0m \u001b[0mget_string\u001b[0m\u001b[0;34m(\u001b[0m\u001b[0mstring\u001b[0m\u001b[0;34m)\u001b[0m\u001b[0;34m:\u001b[0m\u001b[0;34m\u001b[0m\u001b[0;34m\u001b[0m\u001b[0m\n\u001b[0;32m----> 2\u001b[0;31m     \u001b[0;32mif\u001b[0m \u001b[0;34m(\u001b[0m\u001b[0mtype\u001b[0m\u001b[0;34m(\u001b[0m\u001b[0mstring\u001b[0m\u001b[0;34m)\u001b[0m\u001b[0;34m!=\u001b[0m\u001b[0mstr\u001b[0m\u001b[0;34m)\u001b[0m\u001b[0;34m:\u001b[0m \u001b[0;32mraise\u001b[0m \u001b[0mValueError\u001b[0m\u001b[0;34m\u001b[0m\u001b[0;34m\u001b[0m\u001b[0m\n\u001b[0m\u001b[1;32m      3\u001b[0m     \u001b[0mpar_result\u001b[0m \u001b[0;34m=\u001b[0m\u001b[0mstring\u001b[0m\u001b[0;34m[\u001b[0m\u001b[0;36m1\u001b[0m\u001b[0;34m:\u001b[0m\u001b[0;34m]\u001b[0m\u001b[0;34m.\u001b[0m\u001b[0mreplace\u001b[0m\u001b[0;34m(\u001b[0m\u001b[0mstring\u001b[0m\u001b[0;34m[\u001b[0m\u001b[0;36m0\u001b[0m\u001b[0;34m]\u001b[0m\u001b[0;34m,\u001b[0m\u001b[0;34m'$'\u001b[0m\u001b[0;34m)\u001b[0m\u001b[0;34m\u001b[0m\u001b[0;34m\u001b[0m\u001b[0m\n\u001b[1;32m      4\u001b[0m     \u001b[0;32mreturn\u001b[0m \u001b[0;34m(\u001b[0m\u001b[0mstring\u001b[0m\u001b[0;34m[\u001b[0m\u001b[0;36m0\u001b[0m\u001b[0;34m]\u001b[0m\u001b[0;34m+\u001b[0m\u001b[0mpar_result\u001b[0m\u001b[0;34m)\u001b[0m\u001b[0;34m\u001b[0m\u001b[0;34m\u001b[0m\u001b[0m\n",
      "\u001b[0;31mValueError\u001b[0m: "
     ]
    }
   ],
   "source": [
    "print(get_string(1555))"
   ]
  },
  {
   "cell_type": "code",
   "execution_count": 35,
   "metadata": {},
   "outputs": [],
   "source": [
    "############################################################################"
   ]
  },
  {
   "cell_type": "raw",
   "metadata": {},
   "source": [
    "Q2. Write a Python program to get the single string from the two given\n",
    "strings, and separated by the space and swap the first two characters of\n",
    "each string?\n",
    "Sample String : 'abc', 'xyz'.\n",
    "Expected Result: 'xyc abz'"
   ]
  },
  {
   "cell_type": "code",
   "execution_count": 28,
   "metadata": {},
   "outputs": [],
   "source": [
    "def form_string(str1,str2):\n",
    "    if (type(str1)!=str or type(str2)!=str): raise ValueError\n",
    "    return (str2[:2]+str1[2:] ,str1[:2]+str2[2:])    "
   ]
  },
  {
   "cell_type": "code",
   "execution_count": 31,
   "metadata": {},
   "outputs": [
    {
     "name": "stdout",
     "output_type": "stream",
     "text": [
      "xyc abz\n"
     ]
    }
   ],
   "source": [
    "form_string('abc','xyz')"
   ]
  },
  {
   "cell_type": "code",
   "execution_count": 33,
   "metadata": {},
   "outputs": [
    {
     "name": "stdout",
     "output_type": "stream",
     "text": [
      "xycccccc abzzzzzzz\n"
     ]
    }
   ],
   "source": [
    "form_string('abcccccc','xyzzzzzzz')"
   ]
  },
  {
   "cell_type": "code",
   "execution_count": 34,
   "metadata": {},
   "outputs": [],
   "source": [
    "#############################################################################"
   ]
  },
  {
   "cell_type": "raw",
   "metadata": {},
   "source": [
    "Q3. Write the Python program to add 'ing' at the end of the given string\n",
    "(length of the string should be at least 3). If given string already ends\n",
    "with 'ing,' then add 'ly' instead. If string length of the given string is less\n",
    "than 3, leave it unchanged?"
   ]
  },
  {
   "cell_type": "code",
   "execution_count": 53,
   "metadata": {},
   "outputs": [],
   "source": [
    "def add_suffix(string):\n",
    "    if (type(string)!=str): raise ValueError\n",
    "    elif len(string)<3: return string\n",
    "    elif len(string)>=3: \n",
    "        if string[-3:]=='ing': return string[:-3]+'ly'\n",
    "        else: return string+'ing'\n",
    "    "
   ]
  },
  {
   "cell_type": "code",
   "execution_count": 54,
   "metadata": {},
   "outputs": [
    {
     "data": {
      "text/plain": [
       "'ab'"
      ]
     },
     "execution_count": 54,
     "metadata": {},
     "output_type": "execute_result"
    }
   ],
   "source": [
    "add_suffix('ab')"
   ]
  },
  {
   "cell_type": "code",
   "execution_count": 55,
   "metadata": {},
   "outputs": [
    {
     "data": {
      "text/plain": [
       "'seeing'"
      ]
     },
     "execution_count": 55,
     "metadata": {},
     "output_type": "execute_result"
    }
   ],
   "source": [
    "add_suffix('see')"
   ]
  },
  {
   "cell_type": "code",
   "execution_count": 59,
   "metadata": {},
   "outputs": [
    {
     "data": {
      "text/plain": [
       "'nearly'"
      ]
     },
     "execution_count": 59,
     "metadata": {},
     "output_type": "execute_result"
    }
   ],
   "source": [
    "add_suffix('nearing')"
   ]
  },
  {
   "cell_type": "code",
   "execution_count": 58,
   "metadata": {},
   "outputs": [],
   "source": [
    "#############################################################"
   ]
  },
  {
   "cell_type": "raw",
   "metadata": {},
   "source": [
    "Q4. Write the Python program to find the first appearance of the\n",
    "substring 'not' and 'poor' from the given string, if 'not' follows the 'poor',\n",
    "replace the whole 'not'...' poor' substring with 'good'.Return the resulting\n",
    "string.\n",
    "Sample string: 'The lyrics are not that poor!'\n",
    "'The lyrics are poor!'\n",
    "Expected Result: 'The lyrics are good!'\n",
    "'The lyrics are poor!'"
   ]
  },
  {
   "cell_type": "code",
   "execution_count": 144,
   "metadata": {},
   "outputs": [],
   "source": [
    "def make_good(string):\n",
    "    if (type(string)!=str): raise ValueError\n",
    "    word_list= string.split()\n",
    "    not_flag = True\n",
    "    poor_flag = True\n",
    "    not_index, poor_index=None, None\n",
    "    \n",
    "    for index,word in enumerate(word_list):\n",
    "         if (not_flag & ('not' in word)):\n",
    "                not_index = index\n",
    "                not_flag = False\n",
    "        \n",
    "         if (poor_flag & ('poor' in word)):\n",
    "                poor_index = index\n",
    "                poor_flag = False\n",
    "        \n",
    "    \n",
    "    if ((not_index!=None) & (poor_index !=None) ):\n",
    "        if(not_index < poor_index):\n",
    "            del word_list[not_index:poor_index+1]\n",
    "            word_list.insert( int(not_index),'good')\n",
    "            return ' '.join(word_list)\n",
    "        else:\n",
    "            return string\n",
    "    else:\n",
    "        return string\n",
    "        \n",
    "    "
   ]
  },
  {
   "cell_type": "code",
   "execution_count": 148,
   "metadata": {},
   "outputs": [
    {
     "data": {
      "text/plain": [
       "'The lyrics are good !'"
      ]
     },
     "execution_count": 148,
     "metadata": {},
     "output_type": "execute_result"
    }
   ],
   "source": [
    "make_good('The lyrics are not that poor !')"
   ]
  },
  {
   "cell_type": "code",
   "execution_count": 149,
   "metadata": {},
   "outputs": [
    {
     "data": {
      "text/plain": [
       "'The lyrics are poor !'"
      ]
     },
     "execution_count": 149,
     "metadata": {},
     "output_type": "execute_result"
    }
   ],
   "source": [
    "make_good('The lyrics are poor !')"
   ]
  },
  {
   "cell_type": "code",
   "execution_count": 151,
   "metadata": {},
   "outputs": [
    {
     "data": {
      "text/plain": [
       "'The lyrics poor are not that poor !'"
      ]
     },
     "execution_count": 151,
     "metadata": {},
     "output_type": "execute_result"
    }
   ],
   "source": [
    "make_good('The lyrics poor are not that poor !')"
   ]
  },
  {
   "cell_type": "code",
   "execution_count": null,
   "metadata": {},
   "outputs": [],
   "source": [
    "################################################################################"
   ]
  },
  {
   "cell_type": "raw",
   "metadata": {},
   "source": [
    "Q5. Write the Python program to remove the characters which have odd\n",
    "index values of a given string."
   ]
  },
  {
   "cell_type": "code",
   "execution_count": 153,
   "metadata": {},
   "outputs": [],
   "source": [
    "def remove_odd_index(string):\n",
    "    if (type(string)!=str): raise ValueError\n",
    "    \n",
    "    return string[::2]\n",
    "    "
   ]
  },
  {
   "cell_type": "code",
   "execution_count": 154,
   "metadata": {},
   "outputs": [
    {
     "data": {
      "text/plain": [
       "'acegik'"
      ]
     },
     "execution_count": 154,
     "metadata": {},
     "output_type": "execute_result"
    }
   ],
   "source": [
    "remove_odd_index('abcdefghijk')"
   ]
  },
  {
   "cell_type": "code",
   "execution_count": 155,
   "metadata": {},
   "outputs": [],
   "source": [
    "################################################################################"
   ]
  },
  {
   "cell_type": "raw",
   "metadata": {},
   "source": [
    "Q6. Write the Python function to get a string made of 4 copies of the last\n",
    "two characters of the specified string (length must be at least 2).\n",
    "Sample function and result :\n",
    "insert-end ('Python') -> abababab\n",
    "insert-end('Exercises') -> jkjkjkjk"
   ]
  },
  {
   "cell_type": "code",
   "execution_count": 31,
   "metadata": {},
   "outputs": [],
   "source": [
    "def four_times_of_last_2chars(string):\n",
    "    if (type(string)!=str): raise ValueError\n",
    "    if (len(string)>=2):\n",
    "        return string[-2:] * 4\n",
    "    else: \n",
    "        return 'Entered string length is less than 2'\n",
    "    "
   ]
  },
  {
   "cell_type": "code",
   "execution_count": 32,
   "metadata": {},
   "outputs": [
    {
     "data": {
      "text/plain": [
       "'onononon'"
      ]
     },
     "execution_count": 32,
     "metadata": {},
     "output_type": "execute_result"
    }
   ],
   "source": [
    "four_times_of_last_2chars('python')"
   ]
  },
  {
   "cell_type": "code",
   "execution_count": 33,
   "metadata": {},
   "outputs": [
    {
     "data": {
      "text/plain": [
       "'eseseses'"
      ]
     },
     "execution_count": 33,
     "metadata": {},
     "output_type": "execute_result"
    }
   ],
   "source": [
    "four_times_of_last_2chars('Exercises')"
   ]
  },
  {
   "cell_type": "code",
   "execution_count": 34,
   "metadata": {},
   "outputs": [
    {
     "data": {
      "text/plain": [
       "'Entered string length is less than 2'"
      ]
     },
     "execution_count": 34,
     "metadata": {},
     "output_type": "execute_result"
    }
   ],
   "source": [
    "four_times_of_last_2chars('E')"
   ]
  },
  {
   "cell_type": "code",
   "execution_count": 35,
   "metadata": {},
   "outputs": [
    {
     "data": {
      "text/plain": [
       "'EWEWEWEW'"
      ]
     },
     "execution_count": 35,
     "metadata": {},
     "output_type": "execute_result"
    }
   ],
   "source": [
    "four_times_of_last_2chars('EW')"
   ]
  },
  {
   "cell_type": "code",
   "execution_count": 36,
   "metadata": {},
   "outputs": [],
   "source": [
    "###############################################################################"
   ]
  },
  {
   "cell_type": "raw",
   "metadata": {},
   "source": [
    "Q7. Write the python function to get a string made of its first three\n",
    "characters of a specified string. If the length of the string is less than 3\n",
    "then return the original string.\n",
    "Sample function and result :\n",
    "first-three('ipy') -> ipy\n",
    "first-three('python') -> pyt"
   ]
  },
  {
   "cell_type": "code",
   "execution_count": 156,
   "metadata": {},
   "outputs": [],
   "source": [
    "def first_three(string):\n",
    "    if (type(string)!=str): raise ValueError\n",
    "    if (len(string)<3): return string\n",
    "    else: return string[:3]\n",
    "        "
   ]
  },
  {
   "cell_type": "code",
   "execution_count": 157,
   "metadata": {},
   "outputs": [
    {
     "data": {
      "text/plain": [
       "'ipy'"
      ]
     },
     "execution_count": 157,
     "metadata": {},
     "output_type": "execute_result"
    }
   ],
   "source": [
    "first_three('ipy')"
   ]
  },
  {
   "cell_type": "code",
   "execution_count": 158,
   "metadata": {},
   "outputs": [
    {
     "data": {
      "text/plain": [
       "'pyt'"
      ]
     },
     "execution_count": 158,
     "metadata": {},
     "output_type": "execute_result"
    }
   ],
   "source": [
    "first_three('python')"
   ]
  },
  {
   "cell_type": "code",
   "execution_count": 159,
   "metadata": {},
   "outputs": [
    {
     "data": {
      "text/plain": [
       "'py'"
      ]
     },
     "execution_count": 159,
     "metadata": {},
     "output_type": "execute_result"
    }
   ],
   "source": [
    "first_three('py')"
   ]
  },
  {
   "cell_type": "code",
   "execution_count": 160,
   "metadata": {},
   "outputs": [],
   "source": [
    "####################################################################################################"
   ]
  },
  {
   "cell_type": "raw",
   "metadata": {},
   "source": [
    "Q8. Write the python program to print the following floating numbers up\n",
    "to 2 decimal places?"
   ]
  },
  {
   "cell_type": "code",
   "execution_count": 23,
   "metadata": {},
   "outputs": [],
   "source": [
    "def format_decimal(number):\n",
    "    return ('Float number with two decimals {0:.2f}'.format(number))"
   ]
  },
  {
   "cell_type": "code",
   "execution_count": 24,
   "metadata": {},
   "outputs": [
    {
     "data": {
      "text/plain": [
       "'Float number with two decimals 7.56'"
      ]
     },
     "execution_count": 24,
     "metadata": {},
     "output_type": "execute_result"
    }
   ],
   "source": [
    "format_decimal(7.555555)"
   ]
  },
  {
   "cell_type": "code",
   "execution_count": 25,
   "metadata": {
    "scrolled": true
   },
   "outputs": [
    {
     "data": {
      "text/plain": [
       "'Float number with two decimals -5557.56'"
      ]
     },
     "execution_count": 25,
     "metadata": {},
     "output_type": "execute_result"
    }
   ],
   "source": [
    "format_decimal(-5557.555555)"
   ]
  },
  {
   "cell_type": "code",
   "execution_count": 26,
   "metadata": {},
   "outputs": [],
   "source": [
    "################################################################"
   ]
  },
  {
   "cell_type": "raw",
   "metadata": {},
   "source": [
    "Q9. Write the Python program to format a number with a percentage?"
   ]
  },
  {
   "cell_type": "code",
   "execution_count": 27,
   "metadata": {},
   "outputs": [],
   "source": [
    "def format_percent(number):\n",
    "    return ('Percentage format of given number {0:.2f} %'.format(number))"
   ]
  },
  {
   "cell_type": "code",
   "execution_count": 28,
   "metadata": {},
   "outputs": [
    {
     "data": {
      "text/plain": [
       "'Percentage format of given number 63.00 %'"
      ]
     },
     "execution_count": 28,
     "metadata": {},
     "output_type": "execute_result"
    }
   ],
   "source": [
    "format_percent(63)"
   ]
  },
  {
   "cell_type": "code",
   "execution_count": 29,
   "metadata": {},
   "outputs": [
    {
     "data": {
      "text/plain": [
       "'Percentage format of given number -11163.33 %'"
      ]
     },
     "execution_count": 29,
     "metadata": {},
     "output_type": "execute_result"
    }
   ],
   "source": [
    "format_percent(-11163.333333)"
   ]
  },
  {
   "cell_type": "code",
   "execution_count": 30,
   "metadata": {},
   "outputs": [],
   "source": [
    "#######################################################################################"
   ]
  },
  {
   "cell_type": "raw",
   "metadata": {},
   "source": [
    "Q10. Write the Python program to count occurrences of a substring in a\n",
    "String?"
   ]
  },
  {
   "cell_type": "code",
   "execution_count": 169,
   "metadata": {},
   "outputs": [],
   "source": [
    "def count_substring(string, substring):\n",
    "    if ((type(string)!=str) | (type(substring)!=str)): raise ValueError\n",
    "    \n",
    "    return string.lower().count(substring.lower())\n",
    "    "
   ]
  },
  {
   "cell_type": "code",
   "execution_count": 171,
   "metadata": {},
   "outputs": [
    {
     "name": "stdout",
     "output_type": "stream",
     "text": [
      "2\n"
     ]
    }
   ],
   "source": [
    "print(count_substring(\"I live in India, India is a great country\", \"InDIa\"))"
   ]
  },
  {
   "cell_type": "code",
   "execution_count": 172,
   "metadata": {},
   "outputs": [],
   "source": [
    "######################################################################################"
   ]
  },
  {
   "cell_type": "raw",
   "metadata": {},
   "source": [
    "Q11. Write the Python program to count repeated characters in a string.\n",
    "Sample string: ' thequickbrownjumpsoverthelazydog '\n",
    "Expected output:\n",
    "o 3\n",
    "e 3\n",
    "u 2\n",
    "h 2\n",
    "r 2\n",
    "t 2"
   ]
  },
  {
   "cell_type": "code",
   "execution_count": 189,
   "metadata": {},
   "outputs": [],
   "source": [
    "def count_repeated_chars(string):\n",
    "    if (type(string)!=str): raise ValueError\n",
    "        \n",
    "    unique_chars= set(string)\n",
    "    \n",
    "    for char in unique_chars:\n",
    "        count = string.count(char)\n",
    "        if count>1:\n",
    "            print(char,count)"
   ]
  },
  {
   "cell_type": "code",
   "execution_count": 190,
   "metadata": {},
   "outputs": [
    {
     "name": "stdout",
     "output_type": "stream",
     "text": [
      "e 3\n",
      "h 2\n",
      "t 2\n",
      "r 2\n",
      "o 3\n",
      "u 2\n"
     ]
    }
   ],
   "source": [
    "count_repeated_chars('thequickbrownjumpsoverthelazydog')"
   ]
  },
  {
   "cell_type": "code",
   "execution_count": 191,
   "metadata": {},
   "outputs": [],
   "source": [
    "###################################################################"
   ]
  },
  {
   "cell_type": "raw",
   "metadata": {},
   "source": [
    "Q12. Write the Python program to print the square and cube symbol in\n",
    "the area of a rectangle and volume of a cylinder?\n",
    "Sample output-\n",
    "The area of the rectangle is 1256.66cm 2\n",
    "The volume of the cylinder is 1254.725cm 3"
   ]
  },
  {
   "cell_type": "code",
   "execution_count": null,
   "metadata": {},
   "outputs": [],
   "source": [
    "#https://www.fileformat.info/info/unicode/char/b2/index.htm"
   ]
  },
  {
   "cell_type": "code",
   "execution_count": 37,
   "metadata": {},
   "outputs": [
    {
     "name": "stdout",
     "output_type": "stream",
     "text": [
      "The area of the rectangle is 1256.66cm²\n"
     ]
    }
   ],
   "source": [
    "print('The area of the rectangle is 1256.66cm\\u00B2' )"
   ]
  },
  {
   "cell_type": "code",
   "execution_count": 39,
   "metadata": {},
   "outputs": [
    {
     "name": "stdout",
     "output_type": "stream",
     "text": [
      "The volume of the cylinder is 1254.725cm³\n"
     ]
    }
   ],
   "source": [
    "print('The volume of the cylinder is 1254.725cm\\u00B3')"
   ]
  },
  {
   "cell_type": "code",
   "execution_count": 40,
   "metadata": {},
   "outputs": [],
   "source": [
    "######################################################################"
   ]
  },
  {
   "cell_type": "raw",
   "metadata": {},
   "source": [
    "Q13. Write the Python program to check if a string contains all letters of\n",
    "the alphabet?"
   ]
  },
  {
   "cell_type": "code",
   "execution_count": 41,
   "metadata": {},
   "outputs": [],
   "source": [
    "import string"
   ]
  },
  {
   "cell_type": "code",
   "execution_count": 56,
   "metadata": {},
   "outputs": [],
   "source": [
    "def check_all_alphabet(s1):\n",
    "    return set(s1.lower())>= set(string.ascii_lowercase)"
   ]
  },
  {
   "cell_type": "code",
   "execution_count": 57,
   "metadata": {},
   "outputs": [
    {
     "data": {
      "text/plain": [
       "True"
      ]
     },
     "execution_count": 57,
     "metadata": {},
     "output_type": "execute_result"
    }
   ],
   "source": [
    "check_all_alphabet('The quick brown fox jumps over the lazy dog')"
   ]
  },
  {
   "cell_type": "code",
   "execution_count": 58,
   "metadata": {},
   "outputs": [
    {
     "data": {
      "text/plain": [
       "True"
      ]
     },
     "execution_count": 58,
     "metadata": {},
     "output_type": "execute_result"
    }
   ],
   "source": [
    "check_all_alphabet('The quick brown fox jumps over the lazy dog dog DOG DoG')"
   ]
  },
  {
   "cell_type": "code",
   "execution_count": 59,
   "metadata": {},
   "outputs": [
    {
     "data": {
      "text/plain": [
       "False"
      ]
     },
     "execution_count": 59,
     "metadata": {},
     "output_type": "execute_result"
    }
   ],
   "source": [
    "check_all_alphabet('The quick brown fox jumps over the lazy Cat')"
   ]
  },
  {
   "cell_type": "code",
   "execution_count": 60,
   "metadata": {},
   "outputs": [],
   "source": [
    "############################################################################################"
   ]
  },
  {
   "cell_type": "raw",
   "metadata": {},
   "source": [
    "Q14. Write the Python program to find the second most repeated word\n",
    "in a given string?"
   ]
  },
  {
   "cell_type": "code",
   "execution_count": 323,
   "metadata": {},
   "outputs": [],
   "source": [
    "def second_most_repeated_word(string):\n",
    "    if (type(string)!=str): raise ValueError\n",
    "        \n",
    "    str_list = string.split(' ')\n",
    "    unique_words= set(str_list)\n",
    "        \n",
    "    result_dict =   { word: str_list.count(word) for word in unique_words }\n",
    "\n",
    "    reverse = [ (v,k )  for k, v in result_dict.items()]\n",
    "    reverse.sort()\n",
    "    #print(reverse)\n",
    "    #print(reverse[-2])\n",
    "    \n",
    "    print('Second most repeated word is \"{}\" and appeared {} times'.format(reverse[-2][1],reverse[-2][0]))\n",
    "        "
   ]
  },
  {
   "cell_type": "code",
   "execution_count": 324,
   "metadata": {},
   "outputs": [
    {
     "name": "stdout",
     "output_type": "stream",
     "text": [
      "Second most repeated word is \"second\" and appeared 3 times\n"
     ]
    }
   ],
   "source": [
    "second_most_repeated_word ('first first first first second second second third third one')"
   ]
  },
  {
   "cell_type": "code",
   "execution_count": 325,
   "metadata": {},
   "outputs": [],
   "source": [
    "#############################################################################################"
   ]
  },
  {
   "cell_type": "raw",
   "metadata": {},
   "source": [
    "Q15. Write the Python program to find the minimum window in the given\n",
    "string, which will contains all the characters of another given\n",
    "strings?\n",
    "\n",
    "Example 1\n",
    "Input : string1 = \" PRWSOERIUSFK \"\n",
    "string2 = \" OSU \"\n",
    "Output: Minimum window is \"OERIUS\""
   ]
  },
  {
   "cell_type": "code",
   "execution_count": null,
   "metadata": {},
   "outputs": [],
   "source": []
  },
  {
   "cell_type": "raw",
   "metadata": {},
   "source": [
    "Q16. Write the Python program to find smallest window that contains all\n",
    "characters of the given string?\n",
    "Original Strings:\n",
    "asdaewsqgtwwsa\n",
    "Smallest window that contains all characters of the said string:\n",
    "\n",
    "Daewsqgt"
   ]
  },
  {
   "cell_type": "code",
   "execution_count": null,
   "metadata": {},
   "outputs": [],
   "source": []
  },
  {
   "cell_type": "raw",
   "metadata": {},
   "source": [
    "Q17. Write the Python program to count number of substrings from a\n",
    "given string of lowercase alphabets with exactly k distinct (given)\n",
    "characters?\n",
    "Input a string (lowercase alphabets): wolf\n",
    "Input k: 4\n",
    "Number of substrings with exactly 4 distinct characters: 1"
   ]
  },
  {
   "cell_type": "code",
   "execution_count": null,
   "metadata": {},
   "outputs": [],
   "source": []
  },
  {
   "cell_type": "raw",
   "metadata": {},
   "source": [
    "Q18. Write the Python program to count number of non-empty\n",
    "substrings of the given string?\n",
    "Input a string: w3resource\n",
    "Number of substrings:\n",
    "55"
   ]
  },
  {
   "cell_type": "code",
   "execution_count": null,
   "metadata": {},
   "outputs": [],
   "source": []
  },
  {
   "cell_type": "raw",
   "metadata": {},
   "source": [
    "Q19. Write the Python program to count number of substrings with same\n",
    "first and last characters of the given string?\n",
    "Input a string: abcd\n",
    "4"
   ]
  },
  {
   "cell_type": "code",
   "execution_count": null,
   "metadata": {},
   "outputs": [],
   "source": []
  },
  {
   "cell_type": "raw",
   "metadata": {},
   "source": [
    "Q20. Write the Python program to count the number of strings where the\n",
    "string length is 2 or more, and first and last character are same\n",
    "from a given list of strings.\n",
    "\n",
    "Sample List : ['abc', 'xyz', 'wxw', '1331']\n",
    "Expected Result: 2"
   ]
  },
  {
   "cell_type": "code",
   "execution_count": 73,
   "metadata": {},
   "outputs": [],
   "source": [
    "def get_count_firstcharEqlastchar(strlist):\n",
    "    if (type(strlist)!=list): raise ValueError\n",
    "    count =0\n",
    "    for word in strlist:\n",
    "        if ((type(word) ==str) and (word[-1]==word[0])):\n",
    "            count+=1\n",
    "            \n",
    "    return count"
   ]
  },
  {
   "cell_type": "code",
   "execution_count": 69,
   "metadata": {},
   "outputs": [
    {
     "data": {
      "text/plain": [
       "2"
      ]
     },
     "execution_count": 69,
     "metadata": {},
     "output_type": "execute_result"
    }
   ],
   "source": [
    "get_count_firstcharEqlastchar(['abc', 'xyz', 'wxw', '1331'])"
   ]
  },
  {
   "cell_type": "code",
   "execution_count": 70,
   "metadata": {
    "scrolled": true
   },
   "outputs": [
    {
     "data": {
      "text/plain": [
       "2"
      ]
     },
     "execution_count": 70,
     "metadata": {},
     "output_type": "execute_result"
    }
   ],
   "source": [
    "get_count_firstcharEqlastchar([1,333,True, 'abc', 'xyz', 'wxw', '1331'])"
   ]
  },
  {
   "cell_type": "code",
   "execution_count": 71,
   "metadata": {},
   "outputs": [],
   "source": [
    "######################################################################################################"
   ]
  },
  {
   "cell_type": "raw",
   "metadata": {},
   "source": [
    "Q21. Write the Python program to get a list, sorted in increasing order by\n",
    "the last element in each tuple from the given list of non-empty\n",
    "tuples?\n",
    "Sample List - [ (2, 5), (1, 2), (4, 4), (2, 3), (2, 1) ]\n",
    "Expected Result - [ (2, 1), (1, 2), (2, 3), (4, 4), (2, 5) ]"
   ]
  },
  {
   "cell_type": "code",
   "execution_count": null,
   "metadata": {},
   "outputs": [],
   "source": []
  },
  {
   "cell_type": "code",
   "execution_count": null,
   "metadata": {},
   "outputs": [],
   "source": []
  },
  {
   "cell_type": "code",
   "execution_count": null,
   "metadata": {},
   "outputs": [],
   "source": []
  },
  {
   "cell_type": "code",
   "execution_count": null,
   "metadata": {},
   "outputs": [],
   "source": []
  },
  {
   "cell_type": "code",
   "execution_count": null,
   "metadata": {},
   "outputs": [],
   "source": []
  },
  {
   "cell_type": "code",
   "execution_count": null,
   "metadata": {},
   "outputs": [],
   "source": []
  },
  {
   "cell_type": "raw",
   "metadata": {},
   "source": [
    "Q22. Write the Python program to remove duplicates from a list?"
   ]
  },
  {
   "cell_type": "code",
   "execution_count": 196,
   "metadata": {},
   "outputs": [],
   "source": [
    "def remove_dupes(stringlist):\n",
    "    if (type(stringlist)!=list): raise ValueError\n",
    "    return list(set(stringlist))"
   ]
  },
  {
   "cell_type": "code",
   "execution_count": 197,
   "metadata": {
    "scrolled": true
   },
   "outputs": [
    {
     "name": "stdout",
     "output_type": "stream",
     "text": [
      "[1, 2, 3, 4, 6, 7]\n"
     ]
    }
   ],
   "source": [
    "print(remove_dupes([1,3,4,6,6,7,4,2,4,3,3,3,3,1,1,1]))"
   ]
  },
  {
   "cell_type": "code",
   "execution_count": 198,
   "metadata": {},
   "outputs": [
    {
     "name": "stdout",
     "output_type": "stream",
     "text": [
      "['c', 'a', 'b']\n"
     ]
    }
   ],
   "source": [
    "print(remove_dupes(['a','b','a', 'c', 'b','b','a']))"
   ]
  },
  {
   "cell_type": "code",
   "execution_count": 199,
   "metadata": {},
   "outputs": [],
   "source": [
    "###############################################################"
   ]
  },
  {
   "cell_type": "raw",
   "metadata": {},
   "source": [
    "Q23. Write the Python program to find the list of words that are longer\n",
    "than n from a given list of words?"
   ]
  },
  {
   "cell_type": "code",
   "execution_count": 208,
   "metadata": {},
   "outputs": [],
   "source": [
    "def list_words_grt_n(stringlist,n ):\n",
    "    if ((type(stringlist)!=list or (type(n)!=int))): raise ValueError\n",
    "   \n",
    "    result=[]\n",
    "    for word in stringlist:\n",
    "        if len(word)>n:\n",
    "            result.append(word)\n",
    "    return list(set(result))"
   ]
  },
  {
   "cell_type": "code",
   "execution_count": 209,
   "metadata": {},
   "outputs": [
    {
     "data": {
      "text/plain": [
       "['Write', 'program', 'Python', 'longer', 'given', 'words']"
      ]
     },
     "execution_count": 209,
     "metadata": {},
     "output_type": "execute_result"
    }
   ],
   "source": [
    "list_words_grt_n('''Write the Python program to find the list of words that are longer\n",
    "than n from a given list of words'''.split(),4 )"
   ]
  },
  {
   "cell_type": "code",
   "execution_count": 211,
   "metadata": {},
   "outputs": [],
   "source": [
    "####################################################################"
   ]
  },
  {
   "cell_type": "raw",
   "metadata": {},
   "source": [
    "Q24. Write the Python program to print a specified list after removing the\n",
    "0th, 4th, and 5th elements?\n",
    "\n",
    "Sample List - ['Red', 'Green', 'White', 'Black', 'Pink', 'Yellow']\n",
    "Expected Output - ['Green', 'White', 'Black']"
   ]
  },
  {
   "cell_type": "code",
   "execution_count": 108,
   "metadata": {},
   "outputs": [],
   "source": [
    "def remove_specific_list_items(userlist):\n",
    "    if (type(userlist)!=list): raise ValueError\n",
    "    to_be_deleted = []\n",
    "    for index,value in enumerate(userlist):\n",
    "        if index in [0,4,5]:\n",
    "            to_be_deleted.append(value)\n",
    "  \n",
    "    else:\n",
    "        for v in to_be_deleted: \n",
    "            userlist.remove(v)\n",
    "        return userlist\n",
    "    "
   ]
  },
  {
   "cell_type": "code",
   "execution_count": 109,
   "metadata": {},
   "outputs": [
    {
     "data": {
      "text/plain": [
       "['Green', 'White', 'Black']"
      ]
     },
     "execution_count": 109,
     "metadata": {},
     "output_type": "execute_result"
    }
   ],
   "source": [
    "remove_specific_list_items(['Red','Green', 'White', 'Black', 'Pink', 'Yellow'])"
   ]
  },
  {
   "cell_type": "code",
   "execution_count": 110,
   "metadata": {},
   "outputs": [
    {
     "data": {
      "text/plain": [
       "[1, 2, 3]"
      ]
     },
     "execution_count": 110,
     "metadata": {},
     "output_type": "execute_result"
    }
   ],
   "source": [
    "remove_specific_list_items([0,1,2,3,4,5])"
   ]
  },
  {
   "cell_type": "code",
   "execution_count": 111,
   "metadata": {},
   "outputs": [],
   "source": [
    "#################################################################################"
   ]
  },
  {
   "cell_type": "raw",
   "metadata": {},
   "source": [
    "Q25. Write the Python program to generate all permutations of a list in\n",
    "Python?"
   ]
  },
  {
   "cell_type": "code",
   "execution_count": 5,
   "metadata": {},
   "outputs": [],
   "source": [
    "from itertools import permutations\n",
    "\n",
    "\n",
    "def get_perm_list(userlist):\n",
    "    if (type(userlist)!=list): raise ValueError\n",
    "    return list(permutations([1, 2, 3]))"
   ]
  },
  {
   "cell_type": "code",
   "execution_count": 6,
   "metadata": {},
   "outputs": [
    {
     "data": {
      "text/plain": [
       "[(1, 2, 3), (1, 3, 2), (2, 1, 3), (2, 3, 1), (3, 1, 2), (3, 2, 1)]"
      ]
     },
     "execution_count": 6,
     "metadata": {},
     "output_type": "execute_result"
    }
   ],
   "source": [
    "get_perm_list([1,2,3])"
   ]
  },
  {
   "cell_type": "code",
   "execution_count": 7,
   "metadata": {},
   "outputs": [],
   "source": [
    "####################################################################################"
   ]
  },
  {
   "cell_type": "raw",
   "metadata": {},
   "source": [
    "Q26. Write the Python program to convert a pair of values into a sorted\n",
    "unique array?\n",
    "Original List- [ (1, 2), (3, 4), (1, 2), (5, 6), (7, 8), (1, 2), (3, 4), (3, 4), (7, 8), (9, 10) ]\n",
    "Sorted Unique Data- [ 1, 2, 3, 4, 5, 6, 7, 8, 9, 10 ]"
   ]
  },
  {
   "cell_type": "code",
   "execution_count": 234,
   "metadata": {},
   "outputs": [],
   "source": [
    "def sorted_unique_array(list1):\n",
    "\n",
    "    set1 = set()\n",
    "    for t in list1:\n",
    "        a,b =t\n",
    "        set1.add(a)\n",
    "        set1.add(b)\n",
    "    return sorted(list(set1))\n",
    "    \n",
    "        "
   ]
  },
  {
   "cell_type": "code",
   "execution_count": 235,
   "metadata": {},
   "outputs": [
    {
     "data": {
      "text/plain": [
       "[1, 2, 3, 4, 5, 6, 7, 8, 9, 10]"
      ]
     },
     "execution_count": 235,
     "metadata": {},
     "output_type": "execute_result"
    }
   ],
   "source": [
    "sorted_unique_array([ (9, 10) ,(1, 2), (3, 4), (1, 2), (5, 6), (7, 8), (1, 2), (3, 4), (3, 4), (7, 8), (9, 10) ])\n"
   ]
  },
  {
   "cell_type": "code",
   "execution_count": 236,
   "metadata": {},
   "outputs": [],
   "source": [
    "#########################################################################"
   ]
  },
  {
   "cell_type": "raw",
   "metadata": {},
   "source": [
    "Q27. Write the Python class to convert an integer to a roman numeral?"
   ]
  },
  {
   "cell_type": "code",
   "execution_count": null,
   "metadata": {},
   "outputs": [],
   "source": []
  },
  {
   "cell_type": "code",
   "execution_count": null,
   "metadata": {},
   "outputs": [],
   "source": []
  },
  {
   "cell_type": "code",
   "execution_count": null,
   "metadata": {},
   "outputs": [],
   "source": []
  },
  {
   "cell_type": "raw",
   "metadata": {},
   "source": [
    "Q28 Write the Python class to convert a Roman numeral to an integer?"
   ]
  },
  {
   "cell_type": "code",
   "execution_count": null,
   "metadata": {},
   "outputs": [],
   "source": []
  },
  {
   "cell_type": "code",
   "execution_count": null,
   "metadata": {},
   "outputs": [],
   "source": []
  },
  {
   "cell_type": "raw",
   "metadata": {},
   "source": [
    "Q29. Write the Python class to find the validity of the string of the\n",
    "parentheses, '(', ')', '{', '}', '[' and '] and the brackets must be closed\n",
    "in the correct order, example - \"()\" and \"()[]{}\" are valid but \"[)\",\n",
    "\"({[)]\" and \"{{{\" are invalid.\n"
   ]
  },
  {
   "cell_type": "raw",
   "metadata": {},
   "source": [
    "Q30. Write the Python class to get all possible unique subsets from a set\n",
    "of distinct integers?\n",
    "Input - [4, 5, 6]\n",
    "Output - [[], [6], [5], [5, 6], [4], [4, 6], [4, 5], [4, 5, 6]]"
   ]
  },
  {
   "cell_type": "code",
   "execution_count": null,
   "metadata": {},
   "outputs": [],
   "source": []
  },
  {
   "cell_type": "code",
   "execution_count": null,
   "metadata": {},
   "outputs": [],
   "source": []
  },
  {
   "cell_type": "raw",
   "metadata": {},
   "source": [
    "Q31. Write the Python class to find a pair of elements (indices of the two\n",
    "numbers) from a given array whose sum equals the specific target\n",
    "number?\n",
    "Input: numbers- [10,20,10,40,50,60,70], target=50\n",
    "Output- 3, 4\n"
   ]
  },
  {
   "cell_type": "code",
   "execution_count": null,
   "metadata": {},
   "outputs": [],
   "source": []
  },
  {
   "cell_type": "code",
   "execution_count": null,
   "metadata": {},
   "outputs": [],
   "source": []
  },
  {
   "cell_type": "raw",
   "metadata": {},
   "source": [
    "Q32. Write the Python class to find the three elements that sum to zero\n",
    "from the set of n real numbers?\n",
    "Input array- [-25, -10, -7, -3, 2, 4, 8, 10]\n",
    "Output - [[-10, 2, 8], [-7, -3, 10]]\n"
   ]
  },
  {
   "cell_type": "raw",
   "metadata": {},
   "source": [
    "Q33. Write the Python class to implement pow(x, n)?\n"
   ]
  },
  {
   "cell_type": "code",
   "execution_count": 9,
   "metadata": {},
   "outputs": [],
   "source": [
    "class MyMath():\n",
    "    @classmethod\n",
    "    def power(cls, x, n):\n",
    "        try:\n",
    "            return x**n\n",
    "        except Exception as e:\n",
    "            print(e)\n",
    "            return e\n",
    "        "
   ]
  },
  {
   "cell_type": "code",
   "execution_count": 10,
   "metadata": {},
   "outputs": [
    {
     "data": {
      "text/plain": [
       "27"
      ]
     },
     "execution_count": 10,
     "metadata": {},
     "output_type": "execute_result"
    }
   ],
   "source": [
    "MyMath.power(3,3)"
   ]
  },
  {
   "cell_type": "code",
   "execution_count": 11,
   "metadata": {},
   "outputs": [
    {
     "data": {
      "text/plain": [
       "0.02040816326530612"
      ]
     },
     "execution_count": 11,
     "metadata": {},
     "output_type": "execute_result"
    }
   ],
   "source": [
    "MyMath.power(7,-2)"
   ]
  },
  {
   "cell_type": "code",
   "execution_count": 12,
   "metadata": {},
   "outputs": [
    {
     "name": "stdout",
     "output_type": "stream",
     "text": [
      "unsupported operand type(s) for ** or pow(): 'str' and 'int'\n"
     ]
    },
    {
     "data": {
      "text/plain": [
       "TypeError(\"unsupported operand type(s) for ** or pow(): 'str' and 'int'\")"
      ]
     },
     "execution_count": 12,
     "metadata": {},
     "output_type": "execute_result"
    }
   ],
   "source": [
    "MyMath.power('a',2)"
   ]
  },
  {
   "cell_type": "code",
   "execution_count": 13,
   "metadata": {},
   "outputs": [],
   "source": [
    "#################################################################"
   ]
  },
  {
   "cell_type": "raw",
   "metadata": {},
   "source": [
    "Q34. Write the Python class which has two methods get_String and\n",
    "print_String. get_String accept the string from the user and\n",
    "print_String print the string in upper case."
   ]
  },
  {
   "cell_type": "code",
   "execution_count": 256,
   "metadata": {},
   "outputs": [],
   "source": [
    "class MyPrint():\n",
    "    \n",
    "    def __init__(self, string):\n",
    "        self.string=string\n",
    "    \n",
    "\n",
    "    def set_String(self, string):  # set_String looks more appropriate than get_String\n",
    "            self.string=string\n",
    "   \n",
    "\n",
    "    def print_String(self):\n",
    "        print(self.string.upper())\n",
    "   \n",
    "            "
   ]
  },
  {
   "cell_type": "code",
   "execution_count": 259,
   "metadata": {},
   "outputs": [
    {
     "name": "stdout",
     "output_type": "stream",
     "text": [
      "INITIAL\n"
     ]
    }
   ],
   "source": [
    "p1 = MyPrint('initial')\n",
    "p1.print_String()"
   ]
  },
  {
   "cell_type": "code",
   "execution_count": 260,
   "metadata": {},
   "outputs": [
    {
     "name": "stdout",
     "output_type": "stream",
     "text": [
      "TEST\n"
     ]
    }
   ],
   "source": [
    "p2 = MyPrint('initial')\n",
    "p2.set_String('teSt')\n",
    "p2.print_String()"
   ]
  },
  {
   "cell_type": "code",
   "execution_count": 252,
   "metadata": {},
   "outputs": [],
   "source": [
    "#########################################################################"
   ]
  },
  {
   "cell_type": "raw",
   "metadata": {},
   "source": [
    "Q35. Write the Python class named Rectangle constructed by a length\n",
    "and width and the method which will compute the area of the\n",
    "rectangle?\n"
   ]
  },
  {
   "cell_type": "code",
   "execution_count": 17,
   "metadata": {},
   "outputs": [],
   "source": [
    "class Rectangle():\n",
    "    def __init__(self, length, breadth):\n",
    "        self.length=length\n",
    "        self.breadth=breadth\n",
    "    \n",
    "    def calc_area(self):\n",
    "        try:\n",
    "            return self.length*self.breadth\n",
    "        except Exception as e:\n",
    "            return e"
   ]
  },
  {
   "cell_type": "code",
   "execution_count": 19,
   "metadata": {},
   "outputs": [
    {
     "data": {
      "text/plain": [
       "50"
      ]
     },
     "execution_count": 19,
     "metadata": {},
     "output_type": "execute_result"
    }
   ],
   "source": [
    "R1 = Rectangle(5,10)\n",
    "R1.calc_area()"
   ]
  },
  {
   "cell_type": "code",
   "execution_count": 20,
   "metadata": {},
   "outputs": [],
   "source": [
    "#####################################################################"
   ]
  },
  {
   "cell_type": "raw",
   "metadata": {},
   "source": [
    "Q36. Write the Python class named Circle constructed by the radius\n",
    "and two methods which will compute the area and perimeter of\n",
    "the circle?\n"
   ]
  },
  {
   "cell_type": "code",
   "execution_count": 28,
   "metadata": {},
   "outputs": [],
   "source": [
    "from math import pi\n",
    "class Circle():\n",
    "    def __init__(self, radius):\n",
    "        self.radius=radius   \n",
    "    try :\n",
    "        \n",
    "        def calc_area(self):\n",
    "            return pi*self.radius**2\n",
    "            \n",
    "        def calc_perimeter(self):\n",
    "            return 2*pi*self.radius\n",
    "           \n",
    "    except Exception as e:\n",
    "         print(\"Error details\" , e )"
   ]
  },
  {
   "cell_type": "code",
   "execution_count": 37,
   "metadata": {},
   "outputs": [
    {
     "name": "stdout",
     "output_type": "stream",
     "text": [
      "Area of circle: 153.94 square units \n",
      "Perimeter of circle: 43.98 units \n"
     ]
    }
   ],
   "source": [
    "c1=Circle(7)\n",
    "print(\"Area of circle: {:.2f} square units \".format(c1.calc_area()))\n",
    "print(\"Perimeter of circle: {:.2f} units \".format(c1.calc_perimeter()))\n"
   ]
  },
  {
   "cell_type": "code",
   "execution_count": 38,
   "metadata": {},
   "outputs": [],
   "source": [
    "#################################################################"
   ]
  },
  {
   "cell_type": "raw",
   "metadata": {},
   "source": [
    "Q37. Write the Python program to get the class name of an instance in\n",
    "Python?"
   ]
  },
  {
   "cell_type": "code",
   "execution_count": 261,
   "metadata": {},
   "outputs": [],
   "source": [
    "def get_class_name(obj):\n",
    "    return obj.__class__"
   ]
  },
  {
   "cell_type": "code",
   "execution_count": 262,
   "metadata": {},
   "outputs": [
    {
     "data": {
      "text/plain": [
       "int"
      ]
     },
     "execution_count": 262,
     "metadata": {},
     "output_type": "execute_result"
    }
   ],
   "source": [
    "get_class_name(121)"
   ]
  },
  {
   "cell_type": "code",
   "execution_count": 263,
   "metadata": {},
   "outputs": [
    {
     "data": {
      "text/plain": [
       "str"
      ]
     },
     "execution_count": 263,
     "metadata": {},
     "output_type": "execute_result"
    }
   ],
   "source": [
    "get_class_name('test')"
   ]
  },
  {
   "cell_type": "code",
   "execution_count": 264,
   "metadata": {},
   "outputs": [],
   "source": [
    "###############################################################"
   ]
  },
  {
   "cell_type": "raw",
   "metadata": {},
   "source": [
    "Q38. Write the Python program to count the number of students of\n",
    "individual class?\n",
    "Sample data-\n",
    "classes = (\n",
    "('V', 1),\n",
    "('VI', 1),\n",
    "('V', 2),\n",
    "('VI', 2),\n",
    "('VI', 3),\n",
    "('VII', 1),\n",
    ")\n",
    "Expected Output-\n",
    "Counter({'VI': 3, 'V': 2, 'VII': 1})"
   ]
  },
  {
   "cell_type": "code",
   "execution_count": 1,
   "metadata": {},
   "outputs": [],
   "source": [
    "classes = (('V', 1),('VI', 1),('V', 2),('VI', 2),('VI', 3),('VII', 1),)"
   ]
  },
  {
   "cell_type": "code",
   "execution_count": null,
   "metadata": {},
   "outputs": [],
   "source": []
  },
  {
   "cell_type": "code",
   "execution_count": null,
   "metadata": {},
   "outputs": [],
   "source": []
  },
  {
   "cell_type": "code",
   "execution_count": null,
   "metadata": {},
   "outputs": [],
   "source": []
  },
  {
   "cell_type": "code",
   "execution_count": null,
   "metadata": {},
   "outputs": [],
   "source": []
  },
  {
   "cell_type": "raw",
   "metadata": {},
   "source": [
    "Q39. Write the Python program to create an instance of an OrderedDict\n",
    "using the given dictionary and sort dictionary during the\n",
    "creation and print members of the dictionary in reverse order?\n",
    "Expected Output-\n",
    "Angola 244.\n",
    "Andorra 376.\n",
    "Algeria 213.\n",
    "Afghanistan 93.\n",
    "Albania 355.\n",
    "In reverse order-\n",
    "Albania 355.\n",
    "Afghanistan 93.\n",
    "Algeria 213.\n",
    "Andorra 376.\n",
    "Angola 244."
   ]
  },
  {
   "cell_type": "code",
   "execution_count": null,
   "metadata": {},
   "outputs": [],
   "source": [
    "from collections import OrderedDict "
   ]
  },
  {
   "cell_type": "code",
   "execution_count": null,
   "metadata": {},
   "outputs": [],
   "source": []
  },
  {
   "cell_type": "code",
   "execution_count": null,
   "metadata": {},
   "outputs": [],
   "source": []
  },
  {
   "cell_type": "code",
   "execution_count": null,
   "metadata": {},
   "outputs": [],
   "source": []
  },
  {
   "cell_type": "raw",
   "metadata": {},
   "source": [
    "Q40. Write the Python program to compare two unordered lists (not\n",
    "sets)?\n",
    "Expected Output: False\n"
   ]
  },
  {
   "cell_type": "code",
   "execution_count": null,
   "metadata": {},
   "outputs": [],
   "source": []
  },
  {
   "cell_type": "raw",
   "metadata": {},
   "source": [
    "Q41. Write the Python program to get an array buffer information?\n",
    "Expected Output-\n",
    "Array buffer start address in memory and number of elements.\n",
    "(25855056, 2)"
   ]
  },
  {
   "cell_type": "code",
   "execution_count": 43,
   "metadata": {},
   "outputs": [
    {
     "name": "stdout",
     "output_type": "stream",
     "text": [
      "Array buffer start address in memory and number of elements.\n",
      "(140398214061616, 2)\n"
     ]
    }
   ],
   "source": [
    "from array import array\n",
    "a = array(\"I\", [1, 2])  # I => unsigned integer\n",
    "print(\"Array buffer start address in memory and number of elements.\")\n",
    "print(a.buffer_info())"
   ]
  },
  {
   "cell_type": "code",
   "execution_count": 41,
   "metadata": {},
   "outputs": [],
   "source": [
    "######################################################################"
   ]
  },
  {
   "cell_type": "raw",
   "metadata": {},
   "source": [
    "Q42. Write the Python program to convert an array to an array of\n",
    "machine values and return the bytes representation?\n",
    "Expected Output-\n",
    "Original array-\n",
    "A1: array('i', [1, 2, 3, 4, 5, 6])\n",
    "Array of bytes:\n",
    "b'010000000200000003000000040000000500000006000000'"
   ]
  },
  {
   "cell_type": "code",
   "execution_count": null,
   "metadata": {},
   "outputs": [],
   "source": []
  },
  {
   "cell_type": "code",
   "execution_count": null,
   "metadata": {},
   "outputs": [],
   "source": []
  },
  {
   "cell_type": "code",
   "execution_count": null,
   "metadata": {},
   "outputs": [],
   "source": []
  },
  {
   "cell_type": "code",
   "execution_count": null,
   "metadata": {},
   "outputs": [],
   "source": [
    "######################################################"
   ]
  },
  {
   "cell_type": "raw",
   "metadata": {},
   "source": [
    "Q43. Write the Python program to read a string and interpreting the\n",
    "string as an array of machine values?\n",
    "Expected Output-\n",
    "array1- array('i', [7, 8, 9, 10])\n",
    "Bytes- b'0700000008000000090000000a000000'\n",
    "array2- array('i', [7, 8, 9, 10])"
   ]
  },
  {
   "cell_type": "code",
   "execution_count": null,
   "metadata": {},
   "outputs": [],
   "source": []
  },
  {
   "cell_type": "raw",
   "metadata": {},
   "source": [
    "Q44. Write the Python program to push three items into the heap and\n",
    "return the smallest item from the heap. Also, return and pop the\n",
    "smallest item from the heap?\n",
    "Expected Output-\n",
    "Items in the heap-\n",
    "('VI', 1).\n",
    "('VII', 3).\n",
    "('VIII', 2).\n",
    "----------------------\n",
    "The smallest item in the heap:\n",
    "('VI', 1).\n",
    "----------------------\n",
    "Pop the smallest item in the heap:\n",
    "('VII', 2).\n",
    "('VIII', 3)."
   ]
  },
  {
   "cell_type": "code",
   "execution_count": null,
   "metadata": {},
   "outputs": [],
   "source": []
  },
  {
   "cell_type": "raw",
   "metadata": {},
   "source": [
    "Q45. Write the Python program to locate the left insertion point for a\n",
    "specified value in sorted order?\n",
    "Expected Output:\n",
    "4\n",
    "2"
   ]
  },
  {
   "cell_type": "code",
   "execution_count": null,
   "metadata": {},
   "outputs": [],
   "source": []
  },
  {
   "cell_type": "raw",
   "metadata": {},
   "source": [
    "Q46. Write the Python program to create the FIFO queue?\n",
    "Expected Output:\n",
    "0 1 2 3"
   ]
  },
  {
   "cell_type": "code",
   "execution_count": 3,
   "metadata": {},
   "outputs": [
    {
     "name": "stdout",
     "output_type": "stream",
     "text": [
      "0 1 2 3 "
     ]
    }
   ],
   "source": [
    "import queue\n",
    "q = queue.Queue()\n",
    "#insert items at the end of the queue \n",
    "for x in range(4):\n",
    "    q.put(str(x))\n",
    "#remove items from the head of the queue \n",
    "while not q.empty():\n",
    "    print(q.get(), end=\" \")\n"
   ]
  },
  {
   "cell_type": "code",
   "execution_count": 4,
   "metadata": {},
   "outputs": [],
   "source": [
    "##############################################################"
   ]
  },
  {
   "cell_type": "raw",
   "metadata": {},
   "source": [
    "Q47. Write the Python program to calculate the harmonic sum of n-1.\n",
    "Note: The harmonic sum is the sum of reciprocals of the positive\n",
    "Integers?\n",
    "Example - 1-1/2+1/3+1/4+1/5..."
   ]
  },
  {
   "cell_type": "code",
   "execution_count": null,
   "metadata": {},
   "outputs": [],
   "source": []
  },
  {
   "cell_type": "raw",
   "metadata": {},
   "source": [
    "Q48. Write the NumPy program to create a 2d array with 6 on the border\n",
    "and 0 inside?\n",
    "Expected Output-\n",
    "Original array-\n",
    "[ [6 6 6 6 6]\n",
    "[ 6 6 6 6 6]\n",
    "[ 6 6 6 6 6 ]\n",
    "[ 6 6 6 6 6 ]\n",
    "[ 6 6 6 6 ] ].\n",
    "6 on the border and 0 inside in the array-\n",
    "[[ 6 6 6 6 6]\n",
    "[ 6 0 0 0 6]\n",
    "[ 6 0 0 0 6]\n",
    "[ 6 0 0 0 6]\n",
    "[ 6 6 6 6 6]]."
   ]
  },
  {
   "cell_type": "code",
   "execution_count": 96,
   "metadata": {
    "scrolled": true
   },
   "outputs": [
    {
     "name": "stdout",
     "output_type": "stream",
     "text": [
      "Original array\n",
      "---------------\n",
      "[[6 6 6 6 6]\n",
      " [6 6 6 6 6]\n",
      " [6 6 6 6 6]\n",
      " [6 6 6 6 6]\n",
      " [6 6 6 6 6]]\n"
     ]
    }
   ],
   "source": [
    "import numpy as np\n",
    "arr=np.ones(25,dtype=int).reshape(5,5)*6\n",
    "print('Original array')\n",
    "print('-'* 15)\n",
    "print(arr)"
   ]
  },
  {
   "cell_type": "code",
   "execution_count": 97,
   "metadata": {},
   "outputs": [],
   "source": [
    "\n",
    "rows= arr.shape[0]\n",
    "cols= arr.shape[1]\n",
    "\n",
    "for row in range(0,rows):   # rows\n",
    "    for col in range(0, cols): # cols\n",
    "        \n",
    "        if ((row!=0) and (row!=(rows-1))):\n",
    "            if((col!=0) and (col!=(cols-1))):\n",
    "                #print(row, col)\n",
    "                arr[row][col]=0\n",
    "                \n",
    "\n",
    "            "
   ]
  },
  {
   "cell_type": "code",
   "execution_count": 98,
   "metadata": {},
   "outputs": [
    {
     "name": "stdout",
     "output_type": "stream",
     "text": [
      "Actual output with 2d array bodered with 6\n",
      "---------------------------------------------\n",
      "[[6 6 6 6 6]\n",
      " [6 0 0 0 6]\n",
      " [6 0 0 0 6]\n",
      " [6 0 0 0 6]\n",
      " [6 6 6 6 6]]\n"
     ]
    }
   ],
   "source": [
    "print('Actual output with 2d array bodered with 6')\n",
    "print('-'* 45)\n",
    "print(arr)"
   ]
  },
  {
   "cell_type": "code",
   "execution_count": 87,
   "metadata": {},
   "outputs": [],
   "source": [
    "#################################################################"
   ]
  },
  {
   "cell_type": "raw",
   "metadata": {},
   "source": [
    "Q49. Write the NumPy program to create a 8x8 matrix and fill it with the\n",
    "checkerboard pattern?\n",
    "Checkerboard pattern-\n",
    "[[3 9 3 9 3 9 3 9]\n",
    "[9 3 9 3 9 3 9 3]\n",
    "[3 9 3 9 3 9 3 9]\n",
    "[9 3 9 3 9 3 9 3]\n",
    "[3 9 3 9 3 9 3 9]\n",
    "[9 3 9 3 9 3 9 3]\n",
    "[3 9 3 9 3 9 3 9]\n",
    "[9 3 9 3 9 3 9 3]]."
   ]
  },
  {
   "cell_type": "code",
   "execution_count": 91,
   "metadata": {},
   "outputs": [],
   "source": [
    "import numpy as np\n",
    "arr=np.ones(64,dtype=int).reshape(8,8)"
   ]
  },
  {
   "cell_type": "code",
   "execution_count": 92,
   "metadata": {},
   "outputs": [
    {
     "name": "stdout",
     "output_type": "stream",
     "text": [
      "[[3 9 3 9 3 9 3 9]\n",
      " [9 3 9 3 9 3 9 3]\n",
      " [3 9 3 9 3 9 3 9]\n",
      " [9 3 9 3 9 3 9 3]\n",
      " [3 9 3 9 3 9 3 9]\n",
      " [9 3 9 3 9 3 9 3]\n",
      " [3 9 3 9 3 9 3 9]\n",
      " [9 3 9 3 9 3 9 3]]\n"
     ]
    }
   ],
   "source": [
    "rows= arr.shape[0]\n",
    "cols= arr.shape[1]\n",
    "\n",
    "for row in range(0,rows):   # rows\n",
    "    for col in range(0, cols): # cols\n",
    "        \n",
    "        if (row%2==0):\n",
    "            if(col%2==0):\n",
    "                arr[row][col]=3\n",
    "            elif(col%2!=0):\n",
    "                arr[row][col]=9\n",
    "        else:\n",
    "            if(col%2==0):\n",
    "                arr[row][col]=9\n",
    "            elif(col%2!=0):\n",
    "                arr[row][col]=3\n",
    "print(arr)\n",
    "        "
   ]
  },
  {
   "cell_type": "code",
   "execution_count": 35,
   "metadata": {},
   "outputs": [],
   "source": [
    "#############################################################"
   ]
  },
  {
   "cell_type": "raw",
   "metadata": {},
   "source": [
    "Q50. Write the NumPy program to create an empty and a full array.\n",
    "Expected Output-\n",
    "[[4.45057637e-308 1.78021527e-306 8.45549797e-307 1.37962049e-306]\n",
    "[1.11260619e-306 1.78010255e-306 9.79054228e-307 4.45057637e-308]\n",
    "[8.45596650e-307 9.34602321e-307 4.94065646e-322 0.00000000e+000]]\n",
    "[[6 6 6]\n",
    "[6 6 6]\n",
    "[6 6 6]]"
   ]
  },
  {
   "cell_type": "raw",
   "metadata": {},
   "source": [
    "Q51. Write the NumPy program to convert the values of Centigrade\n",
    "degrees into the Fahrenheit degrees and the centigrade values are\n",
    "stored in the NumPy array.\n",
    "Sample Array -[0, 12, 45.21 ,34, 99.91]\n",
    "Expected Output-\n",
    "Values in Fahrenheit degrees-\n",
    "[ 0. 12. 45.21 34. 99.91]\n",
    "Values in Centigrade degrees-\n",
    "[-17.77777778 -11.11111111 7.33888889 1.11111111 37.72777778]"
   ]
  },
  {
   "cell_type": "code",
   "execution_count": 47,
   "metadata": {},
   "outputs": [
    {
     "name": "stdout",
     "output_type": "stream",
     "text": [
      "Values in Fahrenheit degrees-\n",
      "[0, 12, 45.21, 34, 99.91]\n",
      "Values in Centigrade degrees-\n",
      "[-17.77777778 -11.11111111   7.33888889   1.11111111  37.72777778]\n"
     ]
    }
   ],
   "source": [
    "import numpy as np\n",
    "input =[0, 12, 45.21 ,34, 99.91]\n",
    "\n",
    "def celsius2Fahrenhit(celsius):\n",
    "    return ((Celsius * 9/5) + 32)\n",
    "\n",
    "result_list = list(map(fahrenhit2Celsius, temp))\n",
    "np_centigrade_results = np.array(result_list)\n",
    "\n",
    "print(\"Values in Fahrenheit degrees-\")\n",
    "print(input)\n",
    "print(\"Values in Centigrade degrees-\")\n",
    "print(np_centigrade_results)"
   ]
  },
  {
   "cell_type": "code",
   "execution_count": 41,
   "metadata": {},
   "outputs": [],
   "source": [
    "########################################################################################"
   ]
  },
  {
   "cell_type": "raw",
   "metadata": {},
   "source": [
    "Q52. Write the NumPy program to find the real and imaginary parts of an\n",
    "array of complex numbers?\n",
    "Expected Output-\n",
    "Original array [ 1.00000000+0.j 0.70710678+0.70710678j]\n",
    "Real part of the array-\n",
    "[ 1. 0.70710678]\n",
    "Imaginary part of the array-\n",
    "[ 0. 0.70710678]"
   ]
  },
  {
   "cell_type": "code",
   "execution_count": 68,
   "metadata": {},
   "outputs": [
    {
     "name": "stdout",
     "output_type": "stream",
     "text": [
      "Real part of the array- \n",
      " [1.         0.70710678]\n",
      "Imaginary part of the array- \n",
      " [0.         0.70710678]\n"
     ]
    }
   ],
   "source": [
    "import numpy as np\n",
    "comp_array =  [ 1.00000000+0.j , 0.70710678+0.70710678j]\n",
    "\n",
    "\n",
    "real_part = [c.real for c in comp_array]\n",
    "imag_part = [c.imag for c in comp_array ]\n",
    "print(\"Real part of the array-\", \"\\n\",np.array(real_part))\n",
    "print(\"Imaginary part of the array-\", \"\\n\",np.array(imag_part))"
   ]
  },
  {
   "cell_type": "code",
   "execution_count": 67,
   "metadata": {},
   "outputs": [],
   "source": [
    "########################################################################"
   ]
  },
  {
   "cell_type": "raw",
   "metadata": {},
   "source": [
    "Q53. Write the NumPy program to test whether each element of a 1-D\n",
    "array is also present in the second array?\n",
    "Expected Output-\n",
    "Array1: [ 0 10 20 40 60]\n",
    "Array2: [0, 40]\n",
    "Compare each element of array1 and array2\n",
    "[ True False False True False]"
   ]
  },
  {
   "cell_type": "code",
   "execution_count": 112,
   "metadata": {},
   "outputs": [],
   "source": [
    "import numpy as np"
   ]
  },
  {
   "cell_type": "code",
   "execution_count": 181,
   "metadata": {},
   "outputs": [],
   "source": [
    "arr1= np.array([ 0, 10 ,20 ,40 ,60])\n",
    "arr2= np.array([ 0, 40 ])\n",
    "\n",
    "\n",
    "def comp_2arrays_diff_size(arr1, arr2):\n",
    "    if ((type(arr1)!=np.ndarray) or (type(arr2)!=np.ndarray) ): raise ValueError\n",
    "    print('Array -1: ' , list(arr1))\n",
    "    print('Array -2: ' , list(arr2))\n",
    "    common = np.intersect1d(arr1,arr2)\n",
    "\n",
    "    loop_arr = arr1 if (arr1.size > arr2.size) else arr2\n",
    "\n",
    "    for i in loop_arr:\n",
    "        index = np.where(loop_arr==i)\n",
    "        if i in common:\n",
    "            loop_arr[index]=True\n",
    "        else:\n",
    "            loop_arr[index]=False\n",
    "\n",
    "    print('Compare each element of array1 and array2')\n",
    "    print(loop_arr.astype('bool'))\n",
    "    return loop_arr.astype('bool')"
   ]
  },
  {
   "cell_type": "code",
   "execution_count": 182,
   "metadata": {},
   "outputs": [
    {
     "name": "stdout",
     "output_type": "stream",
     "text": [
      "Array -1:  [0, 10, 20, 40, 60]\n",
      "Array -2:  [0, 40]\n",
      "Compare each element of array1 and array2\n",
      "[ True False False  True False]\n"
     ]
    },
    {
     "data": {
      "text/plain": [
       "array([ True, False, False,  True, False])"
      ]
     },
     "execution_count": 182,
     "metadata": {},
     "output_type": "execute_result"
    }
   ],
   "source": [
    "comp_2arrays_diff_size(arr1,arr2)"
   ]
  },
  {
   "cell_type": "code",
   "execution_count": 183,
   "metadata": {},
   "outputs": [
    {
     "name": "stdout",
     "output_type": "stream",
     "text": [
      "Array -1:  [1, 0, 0, 1, 0]\n",
      "Array -2:  [1, 0, 0, 1, 0]\n",
      "Compare each element of array1 and array2\n",
      "[ True  True  True  True  True]\n"
     ]
    },
    {
     "data": {
      "text/plain": [
       "array([ True,  True,  True,  True,  True])"
      ]
     },
     "execution_count": 183,
     "metadata": {},
     "output_type": "execute_result"
    }
   ],
   "source": [
    "comp_2arrays_diff_size(arr1,arr1)"
   ]
  },
  {
   "cell_type": "code",
   "execution_count": 180,
   "metadata": {},
   "outputs": [],
   "source": [
    "##################################################################################"
   ]
  },
  {
   "cell_type": "raw",
   "metadata": {},
   "source": [
    "Q54. Write the NumPy program to find common values between two\n",
    "arrays?\n",
    "Expected Output-\n",
    "Array1: [ 0 10 20 40 60]\n",
    "Array2: [10, 30, 40]\n",
    "Common values between two arrays-\n",
    "[10 40]"
   ]
  },
  {
   "cell_type": "code",
   "execution_count": 237,
   "metadata": {},
   "outputs": [],
   "source": [
    "import numpy as np"
   ]
  },
  {
   "cell_type": "code",
   "execution_count": 244,
   "metadata": {},
   "outputs": [],
   "source": [
    "def intersection_arr(l1,l2):\n",
    "    ar1= np.array(l1)\n",
    "    ar2= np.array(l2)\n",
    "    return np.intersect1d(ar1,ar2)"
   ]
  },
  {
   "cell_type": "code",
   "execution_count": 246,
   "metadata": {},
   "outputs": [
    {
     "data": {
      "text/plain": [
       "array([10, 40])"
      ]
     },
     "execution_count": 246,
     "metadata": {},
     "output_type": "execute_result"
    }
   ],
   "source": [
    "l1=[ 0, 10, 20, 40, 60]\n",
    "l2= [10, 30, 40]\n",
    "intersection_arr(l1,l2)"
   ]
  },
  {
   "cell_type": "code",
   "execution_count": 247,
   "metadata": {},
   "outputs": [],
   "source": [
    "#########################################################################"
   ]
  },
  {
   "cell_type": "raw",
   "metadata": {},
   "source": [
    "Q55. Write the NumPy program to get the unique elements of an array?\n",
    "Expected Output-\n",
    "Original array-\n",
    "[10 10 20 20 30 30]\n",
    "Unique elements of the above array-\n",
    "[10 20 30]\n",
    "Original array-\n",
    "[[1 1]\n",
    "[2 3]]\n",
    "Unique elements of the above array-\n",
    "[1 2 3]"
   ]
  },
  {
   "cell_type": "raw",
   "metadata": {},
   "source": [
    "Q56. Write the NumPy program to find the set exclusive-or of two arrays.\n",
    "Set exclusive-or will return the sorted, unique values that are in\n",
    "only one (not both) of the input arrays?\n",
    "Array1- [ 0 10 20 40 60 80]\n",
    "Array2- [10, 30, 40, 50, 70]\n",
    "Unique values that are in only one (not both) of the input arrays-\n",
    "[ 0 20 30 50 60 70 80]"
   ]
  },
  {
   "cell_type": "raw",
   "metadata": {},
   "source": [
    "57. Write the NumPy program to test if all elements in an array\n",
    "evaluate to True ?\n",
    "Note: 0 evaluates to False in NumPy.\n"
   ]
  },
  {
   "cell_type": "code",
   "execution_count": 77,
   "metadata": {},
   "outputs": [
    {
     "data": {
      "text/plain": [
       "array([ True,  True, False,  True,  True, False,  True, False,  True,\n",
       "       False])"
      ]
     },
     "execution_count": 77,
     "metadata": {},
     "output_type": "execute_result"
    }
   ],
   "source": [
    "import numpy as np\n",
    "\n",
    "arr = np.array([1, 0.5, 0,5+3j,0+55j, None, 'a', '', True, False],dtype=bool)\n",
    "\n",
    "arr"
   ]
  },
  {
   "cell_type": "code",
   "execution_count": 78,
   "metadata": {
    "scrolled": true
   },
   "outputs": [],
   "source": [
    "#################################################################"
   ]
  },
  {
   "cell_type": "raw",
   "metadata": {},
   "source": [
    "Q58 Write the NumPy program to test whether any array element along\n",
    "the given axis evaluates to True?\n",
    "Note: 0 evaluates to False in NumPy."
   ]
  },
  {
   "cell_type": "code",
   "execution_count": null,
   "metadata": {},
   "outputs": [],
   "source": []
  },
  {
   "cell_type": "raw",
   "metadata": {},
   "source": [
    "Q59. Write the NumPy program to construct an array by repeating?\n",
    "Sample array- [1, 2, 3, 4]\n",
    "Expected Output-\n",
    "Original array\n",
    "[1, 2, 3, 4]\n",
    "Repeating 2 times\n",
    "[1 2 3 4 1 2 3 4]\n",
    "Repeating 3 times\n",
    "[1 2 3 4 1 2 3 4 1 2 3 4]"
   ]
  },
  {
   "cell_type": "code",
   "execution_count": 87,
   "metadata": {},
   "outputs": [],
   "source": [
    "import numpy as np\n",
    "\n",
    "def np_repeat(inp_list, rep ):\n",
    "    inp_arr = np.array([inp_list])\n",
    "    print(\"Repeating {} times\\n\".format(rep),inp_arr.repeat(rep, axis=0).flatten())"
   ]
  },
  {
   "cell_type": "code",
   "execution_count": 89,
   "metadata": {},
   "outputs": [
    {
     "name": "stdout",
     "output_type": "stream",
     "text": [
      "Repeating 2 times\n",
      " [1 2 3 4 1 2 3 4]\n",
      "Repeating 3 times\n",
      " [1 2 3 4 1 2 3 4 1 2 3 4]\n"
     ]
    }
   ],
   "source": [
    "inp_list=[1, 2, 3, 4]\n",
    "np_repeat(inp_list,2)\n",
    "np_repeat(inp_list,3)"
   ]
  },
  {
   "cell_type": "code",
   "execution_count": null,
   "metadata": {},
   "outputs": [],
   "source": [
    "##################################################################################"
   ]
  },
  {
   "cell_type": "raw",
   "metadata": {},
   "source": [
    "Q60. Write the NumPy program to find the indices of the maximum and\n",
    "minimum values with the given axis of an array?\n",
    "Original array- [1 2 3 4 5 6]\n",
    "Maximum Values- 5\n",
    "Minimum Values- 0"
   ]
  },
  {
   "cell_type": "code",
   "execution_count": 211,
   "metadata": {},
   "outputs": [
    {
     "name": "stdout",
     "output_type": "stream",
     "text": [
      "Maximum value is 6 and it present at index 5\n",
      "Minimum value is 1 and it present at index 0\n"
     ]
    }
   ],
   "source": [
    "import numpy as np\n",
    "\n",
    "arr= np.array([1,2,3,4,5, 6])\n",
    "max_indexes = np.where(arr==arr.max())\n",
    "min_indexes = np.where(arr==arr.min())\n",
    "first_max_index = max_indexes[0][0]\n",
    "first_min_index = min_indexes[0][0]\n",
    "\n",
    "print('Maximum value is {} and it present at index {}'.format(arr.max(),first_max_index))\n",
    "print('Minimum value is {} and it present at index {}'.format(arr.min(),first_min_index))"
   ]
  },
  {
   "cell_type": "code",
   "execution_count": 212,
   "metadata": {},
   "outputs": [],
   "source": [
    "########################################################"
   ]
  },
  {
   "cell_type": "raw",
   "metadata": {},
   "source": [
    "Q61. Write the NumPy program compare two arrays using numpy?\n",
    "Array a- [1 2]\n",
    "Array b- [4 5]\n",
    "a > b\n",
    "[False False]\n",
    "a >= b\n",
    "[False False]\n",
    "a < b\n",
    "[ True True]\n",
    "a <= b\n",
    "[ True True]"
   ]
  },
  {
   "cell_type": "code",
   "execution_count": 189,
   "metadata": {},
   "outputs": [
    {
     "name": "stdout",
     "output_type": "stream",
     "text": [
      "Array a- [1 2]\n",
      "Array b- [4 5]\n",
      "a>b\n",
      " [False False]\n",
      "a>=b\n",
      " [False False]\n",
      "a<b\n",
      " [ True  True]\n",
      "a<=b\n",
      " [ True  True]\n"
     ]
    }
   ],
   "source": [
    "import numpy as np\n",
    "a,b = np.array([1,2]),np.array([4,5])\n",
    "\n",
    "print('Array a- {0}\\nArray b- {1}'.format(a,b))\n",
    "\n",
    "print('a>b\\n',a>b)\n",
    "print('a>=b\\n',a>=b)\n",
    "print('a<b\\n',a<b)\n",
    "print('a<=b\\n',a<=b)"
   ]
  },
  {
   "cell_type": "code",
   "execution_count": 190,
   "metadata": {},
   "outputs": [],
   "source": [
    "#############################################################"
   ]
  },
  {
   "cell_type": "raw",
   "metadata": {},
   "source": [
    "Q62. Write the NumPy program to sort an along the first, last axis of an\n",
    "array?\n",
    "Sample array- [[2,5],[4,4]]\n",
    "Expected Output-\n",
    "Original array:\n",
    "[[4 6]\n",
    "[2 1]]\n",
    "Sort along the first axis:\n",
    "[[2 1]\n",
    "[4 6]]\n",
    "Sort along the last axis-\n",
    "[[1 2]\n",
    "[4 6]]"
   ]
  },
  {
   "cell_type": "raw",
   "metadata": {},
   "source": [
    "Q63. Write the NumPy program to sort pairs of first name and last name\n",
    "return their indices (first by last name, then by first name).\n",
    "first_names - ( Betsey, Shelley, Lanell, Genesis, Margery )\n",
    "last_names - ( Battle, Brien, Plotner, Stahl, Woolum )\n",
    "Expected Output-\n",
    "[1 3 2 4 0]"
   ]
  },
  {
   "cell_type": "raw",
   "metadata": {},
   "source": [
    "Q64. Write the NumPy program to get the values and indices of the\n",
    "elements that are bigger than 10 in the given array?\n",
    "Original array-\n",
    "[[ 0 10 20]\n",
    "[20 30 40]]\n",
    "Values bigger than 10 = [20 20 30 40]\n",
    "Their indices are (array([0, 1, 1, 1]), array([2, 0, 1, 2]))"
   ]
  },
  {
   "cell_type": "raw",
   "metadata": {},
   "source": [
    "Q65. Write the NumPy program to find the memory size of a NumPy\n",
    "array?\n",
    "Expected Output-\n",
    "128 bytes"
   ]
  },
  {
   "cell_type": "code",
   "execution_count": 180,
   "metadata": {},
   "outputs": [
    {
     "name": "stdout",
     "output_type": "stream",
     "text": [
      "Memory is 128 bytes\n"
     ]
    }
   ],
   "source": [
    "import numpy as np\n",
    "n = np.zeros((4,4))\n",
    "#print(n.size, n.itemsize, n.dtype)\n",
    "print('Memory is {} bytes'.format(n.size* n.itemsize))"
   ]
  },
  {
   "cell_type": "code",
   "execution_count": 182,
   "metadata": {},
   "outputs": [],
   "source": [
    "########################################################################"
   ]
  },
  {
   "cell_type": "raw",
   "metadata": {},
   "source": [
    "Q66. Write the NumPy program to create an array of ones and an array\n",
    "of zeros?\n",
    "Expected Output-\n",
    "Create an array of zeros\n",
    "Default type is float\n",
    "[[ 0. 0.]]\n",
    "Type changes to int\n",
    "[[0 0]]\n",
    "Create an array of ones\n",
    "Default type is float\n",
    "[[ 1. 1.]]\n",
    "Type changes to int\n",
    "[[1 1]]"
   ]
  },
  {
   "cell_type": "code",
   "execution_count": 106,
   "metadata": {},
   "outputs": [
    {
     "name": "stdout",
     "output_type": "stream",
     "text": [
      "Create an array of zeros\n",
      "Default type is float\n",
      "[[0. 0.]]\n",
      "Type changes to int\n",
      "[[0 0]]\n",
      "Create an array of ones\n",
      "Default type is float\n",
      "[[1. 1.]]\n",
      "Type changes to int\n",
      "[[1 1]]\n"
     ]
    }
   ],
   "source": [
    "import numpy as np\n",
    "print('''Create an array of zeros\n",
    "Default type is float''')\n",
    "print(np.zeros(2).reshape(1,2))\n",
    "print('Type changes to int')\n",
    "print(np.zeros(2, dtype=int).reshape(1,2))\n",
    "print('''Create an array of ones\n",
    "Default type is float''')\n",
    "print(np.ones(2).reshape(1,2))\n",
    "print('Type changes to int')\n",
    "print(np.ones(2, dtype=int).reshape(1,2))\n"
   ]
  },
  {
   "cell_type": "code",
   "execution_count": 107,
   "metadata": {},
   "outputs": [],
   "source": [
    "##################################################################################"
   ]
  },
  {
   "cell_type": "raw",
   "metadata": {},
   "source": [
    "Q67. Write the NumPy program to change the dimension of an array?\n",
    "Expected Output-\n",
    "6 rows and 0 columns\n",
    "(6,)\n",
    "(3, 3) -> 3 rows and 3 columns\n",
    "[[1 2 3]\n",
    "[4 5 6]\n",
    "[7 8 9]]\n",
    "Change array shape to (3, 3) -> 3 rows and 3 columns"
   ]
  },
  {
   "cell_type": "code",
   "execution_count": 127,
   "metadata": {},
   "outputs": [
    {
     "name": "stdout",
     "output_type": "stream",
     "text": [
      "6 rows and 0 columns\n",
      "(6,)\n",
      "(3, 3) -> 3 rows and 3 columns\n",
      "[[1 2 3]\n",
      " [4 5 6]\n",
      " [7 8 9]]\n",
      "Changed array shape to (3, 3) -> 3 rows and 3 columns\n"
     ]
    }
   ],
   "source": [
    "import numpy as np\n",
    "\n",
    "print('6 rows and 0 columns')\n",
    "print(np.arange(6).shape)\n",
    "print(np.arange(9).reshape(3,3).shape, '->', '3 rows and 3 columns')\n",
    "print(np.arange(1,10).reshape(3,3))\n",
    "print('Changed array shape to (3, 3) -> 3 rows and 3 columns')"
   ]
  },
  {
   "cell_type": "code",
   "execution_count": 128,
   "metadata": {},
   "outputs": [],
   "source": [
    "############################################################################"
   ]
  },
  {
   "cell_type": "raw",
   "metadata": {},
   "source": [
    "Q68. Write the NumPy program to create a new shape to an array\n",
    "without changing its data ?\n",
    "Reshape 3x2-\n",
    "[[1 2]\n",
    "[3 4]\n",
    "[5 6]]\n",
    "Reshape 2x3-\n",
    "[[1 2 3]\n",
    "[4 5 6]]"
   ]
  },
  {
   "cell_type": "code",
   "execution_count": 131,
   "metadata": {},
   "outputs": [
    {
     "name": "stdout",
     "output_type": "stream",
     "text": [
      "Reshape 3x2-\n",
      "[[1 2]\n",
      " [3 4]\n",
      " [5 6]]\n",
      "Reshape 2x3-\n",
      "[[1 2 3]\n",
      " [4 5 6]]\n"
     ]
    }
   ],
   "source": [
    "import numpy as np\n",
    "print('Reshape 3x2-')\n",
    "print(np.arange(1,7).reshape(3,2))\n",
    "print('Reshape 2x3-')\n",
    "print(np.arange(1,7).reshape(2,3))"
   ]
  },
  {
   "cell_type": "code",
   "execution_count": 132,
   "metadata": {},
   "outputs": [],
   "source": [
    "############################################################################"
   ]
  },
  {
   "cell_type": "raw",
   "metadata": {},
   "source": [
    "Q69. Write the NumPy program to create a new array of 3*5, filled with\n",
    "2?\n",
    "Expected Output-\n",
    "[[2 2 2 2 2]\n",
    " [2 2 2 2 2]\n",
    " [2 2 2 2 2]]\n"
   ]
  },
  {
   "cell_type": "code",
   "execution_count": 134,
   "metadata": {},
   "outputs": [
    {
     "name": "stdout",
     "output_type": "stream",
     "text": [
      "[[2 2 2 2 2]\n",
      " [2 2 2 2 2]\n",
      " [2 2 2 2 2]]\n"
     ]
    }
   ],
   "source": [
    "import numpy as np\n",
    "print(np.ones(15,dtype=int).reshape(3,5)*2)"
   ]
  },
  {
   "cell_type": "code",
   "execution_count": 135,
   "metadata": {},
   "outputs": [],
   "source": [
    "###################################################################################"
   ]
  },
  {
   "cell_type": "raw",
   "metadata": {},
   "source": [
    "Q70. Write the NumPy program to create a 3-D array with ones on a\n",
    "diagonal and zeros elsewhere?\n",
    "Expected Output-\n",
    "[[ 1. 0. 0.]\n",
    "[ 0. 1. 0.]\n",
    "[ 0. 0. 1.]]"
   ]
  },
  {
   "cell_type": "code",
   "execution_count": 138,
   "metadata": {},
   "outputs": [
    {
     "name": "stdout",
     "output_type": "stream",
     "text": [
      "[[1. 0. 0.]\n",
      " [0. 1. 0.]\n",
      " [0. 0. 1.]]\n"
     ]
    }
   ],
   "source": [
    "import numpy as np\n",
    "\n",
    "arr= np.ones(9).reshape(3,3)\n",
    "\n",
    "for row in range(0,arr.shape[0]):\n",
    "    for col in range(0,arr.shape[1]):\n",
    "        if(row!=col): arr[row][col]=0\n",
    "print(arr)"
   ]
  },
  {
   "cell_type": "code",
   "execution_count": 139,
   "metadata": {},
   "outputs": [],
   "source": [
    "###########################################################################"
   ]
  },
  {
   "cell_type": "raw",
   "metadata": {},
   "source": [
    "Q71. Write the NumPy program to split an array of 14 elements into the\n",
    "3 arrays and each of which has 2, 4, and 8 elements in original\n",
    "order?\n",
    "Expected Output-\n",
    "Original array- [ 1 2 3 4 5 6 7 8 9 10 11 12 13 14]\n",
    "After splitting-\n",
    "[array([1, 2]), array([3, 4, 5, 6]), array([ 7, 8, 9, 10, 11, 12, 13, 14])]"
   ]
  },
  {
   "cell_type": "code",
   "execution_count": 149,
   "metadata": {},
   "outputs": [
    {
     "name": "stdout",
     "output_type": "stream",
     "text": [
      "Original array- [ 1  2  3  4  5  6  7  8  9 10 11 12 13 14]\n",
      "After splitting-\n",
      "[array([1, 2]), array([3, 4, 5, 6]), array([ 7,  8,  9, 10, 11, 12, 13, 14])]\n"
     ]
    }
   ],
   "source": [
    "import numpy as np\n",
    "\n",
    "org_arr= np.arange(1,15)\n",
    "print('Original array-',org_arr)\n",
    "print('After splitting-')\n",
    "print(np.split(org_arr, [2,6,14])[:-1])\n"
   ]
  },
  {
   "cell_type": "code",
   "execution_count": 150,
   "metadata": {},
   "outputs": [],
   "source": [
    "##################################################################################################"
   ]
  },
  {
   "cell_type": "raw",
   "metadata": {},
   "source": [
    "Q72. Write the NumPy program to split of an array of shape 4x4 it into\n",
    "two arrays along the second axis ?\n",
    "Sample array -\n",
    "[[ 0 1 2 3]\n",
    "[ 4 5 6 7]\n",
    "[ 8 9 10 11]\n",
    "[12 13 14 15]]\n",
    "Expected Output-\n",
    "[array([[ 0, 1],\n",
    "[ 4, 5],\n",
    "[ 8, 9],\n",
    "[12, 13]]), array([[ 2, 3],\n",
    "[ 6, 7],\n",
    "[10, 11],\n",
    "[14, 15]]), array([], shape=(4, 0), dtype=int64)]"
   ]
  },
  {
   "cell_type": "raw",
   "metadata": {},
   "source": [
    "Q73. Write the NumPy program to create a 5x5 matrix with row values\n",
    "ranging from 0 to 4?\n",
    "Original array-\n",
    "[[ 0. 0. 0. 0. 0.]\n",
    "[ 0. 0. 0. 0. 0.]\n",
    "[ 0. 0. 0. 0. 0.]\n",
    "[ 0. 0. 0. 0. 0.]\n",
    "[ 0. 0. 0. 0. 0.]]\n",
    "Row values ranging from 0 to 4.\n",
    "[[ 0. 1. 2. 3. 4.]\n",
    "[ 0. 1. 2. 3. 4.]\n",
    "[ 0. 1. 2. 3. 4.]\n",
    "[ 0. 1. 2. 3. 4.]\n",
    "[ 0. 1. 2. 3. 4.]]"
   ]
  },
  {
   "cell_type": "code",
   "execution_count": 176,
   "metadata": {},
   "outputs": [
    {
     "name": "stdout",
     "output_type": "stream",
     "text": [
      "Original array-\n",
      "[[0. 0. 0. 0. 0.]\n",
      " [0. 0. 0. 0. 0.]\n",
      " [0. 0. 0. 0. 0.]\n",
      " [0. 0. 0. 0. 0.]\n",
      " [0. 0. 0. 0. 0.]]\n",
      "Row values ranging from 0 to 4.\n",
      "[[0. 1. 2. 3. 4.]\n",
      " [0. 1. 2. 3. 4.]\n",
      " [0. 1. 2. 3. 4.]\n",
      " [0. 1. 2. 3. 4.]\n",
      " [0. 1. 2. 3. 4.]]\n"
     ]
    }
   ],
   "source": [
    "import numpy as np\n",
    "\n",
    "print('Original array-')\n",
    "arr= np.zeros(25).reshape(5,5)\n",
    "print(arr)\n",
    "print('Row values ranging from 0 to 4.')\n",
    "for row in range(arr.shape[0]):\n",
    "    for col in range(arr.shape[1]):\n",
    "        arr[row][col]=col\n",
    "print(arr)"
   ]
  },
  {
   "cell_type": "code",
   "execution_count": 177,
   "metadata": {},
   "outputs": [],
   "source": [
    "######################################################"
   ]
  },
  {
   "cell_type": "raw",
   "metadata": {},
   "source": [
    "Q74. Write the NumPy program to create an array of zeros and three\n",
    "column types (integer, float, character)?\n",
    "Expected Output-\n",
    "[(1, 2., b'Albert Einstein') (2, 2., b'Edmond Halley')\n",
    "(3, 3., b'Gertrude B. Elion')]"
   ]
  },
  {
   "cell_type": "raw",
   "metadata": {},
   "source": [
    "Q75. Write the NumPy program to remove the negative values in the\n",
    "numpy array with 0?\n",
    "Expected Output-\n",
    "Original array:\n",
    "[-1 -4 0 2 3 4 5 -6]\n",
    "Replace the negative values of the said array with 0-\n",
    "[0 0 0 2 3 4 5 0]"
   ]
  },
  {
   "cell_type": "code",
   "execution_count": 158,
   "metadata": {},
   "outputs": [
    {
     "name": "stdout",
     "output_type": "stream",
     "text": [
      "Expected Output-\n",
      "Original array:\n",
      "[-1 -4  0  2  3  4  5 -6]\n",
      "Replace the negative values of the said array with 0-\n",
      "[0 0 0 2 3 4 5 0]\n"
     ]
    }
   ],
   "source": [
    "import numpy as np\n",
    "arr= np.array([-1, -4, 0, 2, 3 ,4, 5 ,-6])\n",
    "print('''Expected Output-\n",
    "Original array:''')\n",
    "print(arr)\n",
    "print('Replace the negative values of the said array with 0-')\n",
    "arr[arr<0]=0\n",
    "print(arr)"
   ]
  },
  {
   "cell_type": "code",
   "execution_count": 159,
   "metadata": {},
   "outputs": [],
   "source": [
    "########################################################################################"
   ]
  },
  {
   "cell_type": "raw",
   "metadata": {},
   "source": [
    "Q76. Write the NumPy program to compute the histogram of a set of\n",
    "data?"
   ]
  },
  {
   "attachments": {
    "image.png": {
     "image/png": "[encoded data removed]"
    }
   },
   "cell_type": "markdown",
   "metadata": {},
   "source": [
    "![image.png](attachment:image.png)"
   ]
  },
  {
   "cell_type": "raw",
   "metadata": {},
   "source": [
    "Q77. Write the NumPy program to compute the line graph of a set of\n",
    "data?"
   ]
  },
  {
   "attachments": {
    "image.png": {
     "image/png": "[encoded data removed]"
    }
   },
   "cell_type": "markdown",
   "metadata": {},
   "source": [
    "![image.png](attachment:image.png)"
   ]
  },
  {
   "cell_type": "raw",
   "metadata": {},
   "source": [
    "Q78. Write the NumPy program to extracts all the elements from second\n",
    "row from given (4x4) array?\n",
    "Sample Output-\n",
    "Original array-\n",
    "[[ 0 1 2 3]\n",
    "[ 4 5 6 7]\n",
    "[ 8 9 10 11]\n",
    "[12 13 14 15]]\n",
    "Extracted data- Second row\n",
    "[4 5 6 7]"
   ]
  },
  {
   "cell_type": "raw",
   "metadata": {},
   "source": [
    "Q79. Write the NumPy program to extract first element of the second\n",
    "row and fourth element of fourth row from a given (4x4) array?\n",
    "Sample Output-\n",
    "Original array-\n",
    "[[ 0 1 2 3]\n",
    "[ 4 5 6 7]\n",
    "[ 8 9 10 11]\n",
    "[12 13 14 15]]\n",
    "Extracted data- First element of the second row and fourth element of fourth row\n",
    "[ 4 15]"
   ]
  },
  {
   "cell_type": "raw",
   "metadata": {},
   "source": [
    "Q80. Write the NumPy program to add two arrays A and B of sizes (3,3)\n",
    "and (,3)?\n",
    "Sample Output-\n",
    "Original array-\n",
    "Array-1\n",
    "[[1 1 1]\n",
    "[1 1 1]\n",
    "[1 1 1]]\n",
    "Array-2\n",
    "[0 1 2]\n",
    "A + B:\n",
    "[[1 2 3]\n",
    "[1 2 3]\n",
    "[1 2 3]]"
   ]
  },
  {
   "cell_type": "code",
   "execution_count": null,
   "metadata": {},
   "outputs": [],
   "source": []
  },
  {
   "cell_type": "code",
   "execution_count": null,
   "metadata": {},
   "outputs": [],
   "source": []
  },
  {
   "cell_type": "code",
   "execution_count": null,
   "metadata": {},
   "outputs": [],
   "source": []
  },
  {
   "cell_type": "code",
   "execution_count": null,
   "metadata": {},
   "outputs": [],
   "source": []
  },
  {
   "cell_type": "code",
   "execution_count": null,
   "metadata": {},
   "outputs": [],
   "source": []
  },
  {
   "cell_type": "raw",
   "metadata": {},
   "source": [
    "Q81. Write the NumPy program to copy data from a given array to\n",
    "another array?\n",
    "Sample Output-\n",
    "Original array-\n",
    "[24 27 30 29 18 14]\n",
    "Copy of the said array-\n",
    "[24 27 30 29 18 14]"
   ]
  },
  {
   "cell_type": "code",
   "execution_count": 214,
   "metadata": {},
   "outputs": [
    {
     "name": "stdout",
     "output_type": "stream",
     "text": [
      "Original array\n",
      " [24 27 30 29 18 14]\n",
      "Copy of the sai array\n",
      " [24 27 30 29 18 14]\n",
      "False\n"
     ]
    }
   ],
   "source": [
    "import numpy as np\n",
    "\n",
    "arr1= np.array([24 ,27 ,30 ,29 ,18, 14])\n",
    "arr2= arr1.copy()\n",
    "\n",
    "print('Original array\\n',arr1)\n",
    "print('Copy of the sai array\\n',arr2)\n",
    "print(arr1 is arr2)"
   ]
  },
  {
   "cell_type": "code",
   "execution_count": 215,
   "metadata": {},
   "outputs": [],
   "source": [
    "#############################################################################################"
   ]
  },
  {
   "cell_type": "raw",
   "metadata": {},
   "source": [
    "Q82. Write the NumPy program to calculate the sum of all columns of\n",
    "the 2D numpy array?\n",
    "Sample Output-\n",
    "Original array-\n",
    "[[ 0 1 2 3 4 5 6 7 8]\n",
    "[ 9 10 11 12 13 14 15 16 17]\n",
    "[18 19 20 21 22 23 24 25 26]\n",
    "[27 28 29 30 31 32 33 34 35]]\n",
    "Sum of all columns-\n",
    "[54 58 62 66 70 74 78 82 86]"
   ]
  },
  {
   "cell_type": "raw",
   "metadata": {},
   "source": [
    "Q83. Write the NumPy program to calculate averages without NaNs\n",
    "along the given array?\n",
    "Sample Output-\n",
    "Original array-\n",
    "[[10. 20. 30.]\n",
    "[40. 50. nan]\n",
    "[nan 6. nan]\n",
    "[nan nan nan]]\n",
    "Averages without NaNs along the said array-\n",
    "[20. 45. 6. nan]"
   ]
  },
  {
   "cell_type": "raw",
   "metadata": {},
   "source": [
    "Q84. Create two arrays of six elements. Write the NumPy program to\n",
    "count the number of instances of a value occurring in one array on\n",
    "the condition of another array.\n",
    "Sample Output-\n",
    "Original arrays-\n",
    "[ 10 -10 10 -10 -10 10]\n",
    "[0.85 0.45 0.9 0.8 0.12 0.6 ]\n",
    "Number of instances of a value occurring in one array on the condition of another\n",
    "array: 3"
   ]
  },
  {
   "cell_type": "raw",
   "metadata": {},
   "source": [
    "Q85. Write the NumPy program to convert a Python dictionary to a\n",
    "Numpy ndarray ?\n",
    "Original dictionary-\n",
    "{'column0': {'a': 1, 'b': 0.0, 'c': 0.0, 'd': 2.0},\n",
    "'column1': {'a': 3.0, 'b': 1, 'c': 0.0, 'd': -1.0},\n",
    "'column2': {'a': 4, 'b': 1, 'c': 5.0, 'd': -1.0},\n",
    "'column3': {'a': 3.0, 'b': -1.0, 'c': -1.0, 'd': -1.0}}\n",
    "Type: <class 'dict'>\n",
    "ndarray-\n",
    "[[ 1. 0. 0. 2.]\n",
    "[ 3. 1. 0. -1.]\n",
    "[ 4. 1. 5. -1.]\n",
    "[ 3. -1. -1. -1.]]\n",
    "Type: <class 'numpy.ndarray'>"
   ]
  },
  {
   "cell_type": "raw",
   "metadata": {},
   "source": [
    "Q86. Write the Numpy program to find and store the non-zero unique\n",
    "rows in an array after comparing each row with other row in the\n",
    "given matrix?\n",
    "Original array-\n",
    "[[ 1 1 0]\n",
    "[ 0 0 0]\n",
    "[ 0 2 3]\n",
    "[ 0 0 0]\n",
    "[ 0 -1 1]\n",
    "[ 0 0 0]]\n",
    "Non-zero unique rows-\n",
    "[[ 1 1 0]\n",
    "[ 0 2 3]\n",
    "[ 0 -1 1]]"
   ]
  },
  {
   "cell_type": "raw",
   "metadata": {},
   "source": [
    "Q87. Write the NumPy program to multiply the matrix by another matrix\n",
    "of complex numbers and create a new matrix of complex\n",
    "numbers?\n",
    "Sample output-\n",
    "First array-\n",
    "[ 1.+2.j 3.+4.j]\n",
    "Second array-\n",
    "[ 5.+6.j 7.+8.j]\n",
    "Product of above two arrays-\n",
    "(70-8j)"
   ]
  },
  {
   "cell_type": "raw",
   "metadata": {},
   "source": [
    "Q88. Write a NumPy program to generate the matrix product of two\n",
    "Arrays?\n",
    "Sample Output-\n",
    "Matrices and vectors.\n",
    "x-\n",
    "[[1, 0], [1, 1]]\n",
    "y-\n",
    "[[3, 1], [2, 2]]\n",
    "Matrix product of above two arrays-\n",
    "[[3 1]\n",
    "[5 3]]"
   ]
  },
  {
   "cell_type": "raw",
   "metadata": {},
   "source": [
    "Q89. Write the NumPy program to find roots of the following\n",
    "Polynomials?\n",
    "a) (x 2 - 4x + 7)\n",
    "b) x 4 - 11x 3 + 9x 2 + 11x ? 10\n",
    "Sample output-\n",
    "Roots of the first polynomial-\n",
    "[ 1. 1.]\n",
    "Roots of the second polynomial-\n",
    "[ 11.04461946+0.j -0.87114210+0.j 0.91326132+0.4531004j\n",
    "0.91326132-0.4531004j ]"
   ]
  },
  {
   "cell_type": "raw",
   "metadata": {},
   "source": [
    "Q90. Write the NumPy program to calculate inverse of sine, cosine,\n",
    "and inverse tangent for all elements in a given array?\n",
    "Sample output-\n",
    "Inverse sine- [-1.57079633 0. 1.57079633]\n",
    "Inverse cosine- [3.14159265 1.57079633 0. ]\n",
    "Inverse tangent- [-0.78539816 0. 0.78539816]"
   ]
  },
  {
   "cell_type": "raw",
   "metadata": {},
   "source": [
    "Q91. Write the NumPy program to calculate the difference between in\n",
    "neighbouring elements, element-wise of a given array?\n",
    "Sample output-\n",
    "Original array-\n",
    "[1 3 5 7 0]\n",
    "Difference between neighbouring elements, element-wise of the said array-\n",
    "[ 2 2 2 -7]"
   ]
  },
  {
   "cell_type": "raw",
   "metadata": {},
   "source": [
    "Q92. Write the Python program to find the maximum and the minimum\n",
    "value of a given flattened array?\n",
    "Expected Output-\n",
    "Original flattened array-\n",
    "[[0 1]\n",
    "[2 3]]\n",
    "Maximum value of the above flattened array-\n",
    "3\n",
    "Minimum value of the above flattened array-\n",
    "0"
   ]
  },
  {
   "cell_type": "raw",
   "metadata": {},
   "source": [
    "Q93. Write the NumPy program to calculate the difference between in\n",
    "the maximum and the minimum values of a given array along the\n",
    "second axis ?\n",
    "Expected Output-\n",
    "Original array-\n",
    "[[ 0 1 2 3 4 5]\n",
    "[ 6 7 8 9 10 11]]\n",
    "Difference between the maximum and the minimum values of the said array-\n",
    "[5 5]"
   ]
  },
  {
   "cell_type": "raw",
   "metadata": {},
   "source": [
    "Q94. Write the NumPy program to compute the weighted of the given\n",
    "array ?\n",
    "Sample Output-\n",
    "Original array-\n",
    "[0 1 2 3 4]\n",
    "Weighted average of the said array-\n",
    "2.6666666666666665"
   ]
  },
  {
   "cell_type": "raw",
   "metadata": {},
   "source": [
    "Q95. Write the NumPy program to compute the mean, standard\n",
    "deviation, and the variance of a given array along the second\n",
    "axis?\n",
    "Sample output-\n",
    "Original array-\n",
    "[0 1 2 3 4 5]\n",
    "Mean- 2.5\n",
    "std- 1\n",
    "variance- 2.9166666666666665"
   ]
  },
  {
   "cell_type": "raw",
   "metadata": {},
   "source": [
    "Q96. Write the Numpy program to compute the covariance matrix of the\n",
    "two given arrays?\n",
    "Sample Output-\n",
    "Original array1-\n",
    "[0 1 2]\n",
    "Original array1-\n",
    "[2 1 0]\n",
    "Covariance matrix of the said arrays-\n",
    "[[ 1. -1.]\n",
    "[-1. 1.]]"
   ]
  },
  {
   "cell_type": "raw",
   "metadata": {},
   "source": [
    "Q97. Write a NumPy program to compute the cross-correlation of two\n",
    "given arrays ?\n",
    "Sample Output-\n",
    "Original array1-\n",
    "[0 1 3]\n",
    "Original array1-\n",
    "[2 4 5]\n",
    "Cross-correlation of the said arrays-\n",
    "[ [ 2.33333333 2.16666667 ]\n",
    "[ 2.16666667 2.33333333 ] ]"
   ]
  },
  {
   "cell_type": "raw",
   "metadata": {},
   "source": [
    "Q98. Write the NumPy program to compute Pearson product-moment\n",
    "correlation coefficients of two given arrays?\n",
    "Sample Output-\n",
    "Original array1-\n",
    "[0 1 3]\n",
    "Original array1-\n",
    "[2 4 5]\n",
    "Pearson product-moment correlation coefficients of the said arrays-\n",
    "[[1. 0.92857143]\n",
    "[0.92857143 1. ]]"
   ]
  },
  {
   "cell_type": "raw",
   "metadata": {},
   "source": [
    "Q99. Write the python program to count the number of occurrences of\n",
    "each value in a given array of non-negative integers?\n",
    "Note: bincount() Function- It count the occurrence of each value in an array of the\n",
    "non- negative integers in the range of the array between the minimum and maximum values\n",
    "including the values that did not occur.\n",
    "Sample Output-\n",
    "Original array-\n",
    "[0, 1, 6, 1, 4, 1, 2, 2, 7]\n",
    "Number of occurrences of each value in array-\n",
    "[1 3 2 0 1 0 1 1]"
   ]
  },
  {
   "cell_type": "raw",
   "metadata": {},
   "source": [
    "Q100. Write a Numpy program to compute the histogram of nums\n",
    "against the bins?\n",
    "Sample Output-\n",
    "nums- [0.5 0.7 1. 1.2 1.3 2.1]\n",
    "bins- [0 1 2 3]\n",
    "Result- (array([2, 3, 1], dtype=int64), array([0, 1, 2, 3]))"
   ]
  },
  {
   "attachments": {
    "image.png": {
     "image/png": "[encoded data removed]"
    }
   },
   "cell_type": "markdown",
   "metadata": {},
   "source": [
    "![image.png](attachment:image.png)"
   ]
  },
  {
   "cell_type": "raw",
   "metadata": {},
   "source": [
    "Q101. Write the Python program to add, subtract, multiply and divide\n",
    "two pandas series ?\n",
    "Sample Series- [2, 4, 6, 8, 10], [1, 3, 5, 7, 9]"
   ]
  },
  {
   "cell_type": "raw",
   "metadata": {},
   "source": [
    "Q102. Write a Python program to convert a dictionary to the Pandas\n",
    "Series?\n",
    "Sample Series-\n",
    "Original dictionary-\n",
    "{'a': 100, 'b': 200, 'c': 300, 'd': 400, 'e': 800}\n",
    "Converted series -\n",
    "a 100\n",
    "b 200\n",
    "c 300\n",
    "d 400\n",
    "e 800\n",
    "dtype- int64"
   ]
  },
  {
   "cell_type": "raw",
   "metadata": {},
   "source": [
    "Q103. Write a python program to change the data type of given a\n",
    "column or a Series?\n",
    "Sample Series-\n",
    "Original Data Series-\n",
    "0 100\n",
    "1 200\n",
    "2 python\n",
    "3 300.12\n",
    "4 400\n",
    "dtype- object\n",
    "Change the said data type to numeric-\n",
    "0 100.00\n",
    "1 200.00\n",
    "2 NaN\n",
    "3 300.12\n",
    "4 400.00\n",
    "dtype- float64"
   ]
  },
  {
   "cell_type": "raw",
   "metadata": {},
   "source": [
    "Q104. Write the python pandas program to convert the first column of a\n",
    "DataFrame as a Series?\n",
    "Sample Output-\n",
    "Original DataFrame-\n",
    "col1 col2 col3\n",
    "0 1 4 7\n",
    "1 2 5 5\n",
    "2 3 6 8\n",
    "3 4 9 12\n",
    "4 7 5 1\n",
    "5 11 0 11\n",
    "1st column as a Series-\n",
    "0 1\n",
    "1 2\n",
    "2 3\n",
    "3 4\n",
    "4 7\n",
    "5 11\n",
    "Name- col1, dtype- int64\n",
    "<class 'pandas.core.series.Series'>"
   ]
  },
  {
   "cell_type": "raw",
   "metadata": {},
   "source": [
    "Q105. Write a pandas program to create the mean and standard\n",
    "deviation of the data of a given Series?\n",
    "Sample Output-\n",
    "Original Data Series-\n",
    "0 1\n",
    "1 2\n",
    "2 3\n",
    "3 4\n",
    "4 5\n",
    "5 6\n",
    "6 7\n",
    "7 8\n",
    "8 9\n",
    "9 5\n",
    "10 3\n",
    "dtype- int64\n",
    "Mean of the said Data Series-\n",
    "4.81818181818\n",
    "Standard deviation of the said Data Series-\n",
    "2.52262489555"
   ]
  },
  {
   "cell_type": "raw",
   "metadata": {},
   "source": [
    "Q106. Write a pandas program to get powers of an array values\n",
    "element-wise?\n",
    "Note First array elements raised the powers from the second array.\n",
    "Sample data: {'X ':[78,85,96,80,86], ' Y ':[84,94,89,83,86],'Z':[86,97,96,72,83]}\n",
    "Expected Output:\n",
    "X Y Z\n",
    "0 78 84 86\n",
    "1 85 94 97\n",
    "2 96 89 96\n",
    "3 80 83 72\n",
    "4 86 86 83"
   ]
  },
  {
   "cell_type": "raw",
   "metadata": {},
   "source": [
    "Q107. Write the pandas program to get the first 3 rows of a given\n",
    "DataFrame?\n",
    "Sample Python dictionary data and list labels-\n",
    "exam_data = {'name': ['Anastasia', 'Dima', 'Katherine', 'James', 'Emily', 'Michael',\n",
    "'Matthew', 'Laura', 'Kevin', 'Jonas'],\n",
    "'score': [12.5, 9, 16.5, np.nan, 9, 20, 14.5, np.nan, 8, 19],\n",
    "'attempts'- [1, 3, 2, 3, 2, 3, 1, 1, 2, 1],\n",
    "'qualify'- [ 'yes', 'no', 'yes' , 'no', ' no ', ' yes ', 'yes', 'no', 'no', 'yes' ] }\n",
    "labels = ['a', 'b', 'c', 'd', 'e', 'f', 'g', 'h', 'i', 'j' ]\n",
    "Expected Output-\n",
    "First three rows of the data frame-\n",
    "attempts name qualify score\n",
    "a 1 Anastasia yes 12.5\n",
    "b 3 Dima no 9.0\n",
    "c 2 Katherine yes 16.5"
   ]
  },
  {
   "cell_type": "raw",
   "metadata": {},
   "source": [
    "Q108: Write the pandas program to select the specified columns and\n",
    "the rows from a given data frame?\n",
    "Sample Python dictionary data and list labels-\n",
    "Select 'name' and 'score' columns in rows 1, 3, 5, 6 from the following data frame.\n",
    "exam_data = {'name ': [ 'Anastasia', 'Dima', 'Katherine', 'James', 'Emily', 'Michael',\n",
    "'Matthew', 'Laura', 'Kevin', 'Jonas'],\n",
    "'score'- [12.5, 9, 16.5, np.nan, 9, 20, 14.5, np.nan, 8, 19],\n",
    "'attempts'- [1, 3, 2, 3, 2, 3, 1, 1, 2, 1],\n",
    "'qualify'- ['yes', 'no', 'yes', 'no', 'no', 'yes', 'yes', 'no', 'no', 'yes'] }\n",
    "labels = ['a ', ' b ', ' c ', ' d ', ' e ', ' f ', ' g ', 'h', 'i', 'j']\n",
    "Expected Output-\n",
    "Select specific columns and rows-\n",
    "name score\n",
    "b Dima 9.0\n",
    "d James NaN\n",
    "f Michael 20.0\n",
    "g Matthew 14.5"
   ]
  },
  {
   "cell_type": "raw",
   "metadata": {},
   "source": [
    "Q109. Write the pandas program to calculate mean score for each\n",
    "different student in DataFrame?\n",
    "Sample Python dictionary data and list labels-\n",
    "exam_data = {'name': ['Anastasia', 'Dima', 'Katherine', 'James', 'Emily', 'Michael',\n",
    "'Matthew', 'Laura', 'Kevin', 'Jonas'],\n",
    "'score': [12.5, 9, 16.5, np.nan, 9, 20, 14.5, np.nan, 8, 19],\n",
    "'attempts'- [1, 3, 2, 3, 2, 3, 1, 1, 2, 1],\n",
    "'qualify'- ['yes', 'no', ' yes ', ' no ', ' no ', ' yes ', ' yes ', ' no ', ' no ', ' yes '] }\n",
    "labels = ['a', 'b', 'c', 'd', 'e', 'f', 'g', 'h', 'i', 'j']\n",
    "Expected Output-\n",
    "Mean score for each different student in data frame:\n",
    "13.5625"
   ]
  },
  {
   "cell_type": "raw",
   "metadata": {},
   "source": [
    "Q110. Write the Pandas program to rename columns of a given\n",
    "DataFrame ?\n",
    "Sample data-\n",
    "Original data frame\n",
    "col1 col2 col3\n",
    "0 1 4 7\n",
    "1 2 5 8\n",
    "2 3 6 9\n",
    "New data frame after renaming columns:\n",
    "Column1 Column2 Column3\n",
    "0 1 4 7\n",
    "1 2 5 8\n",
    "2 3 6 9"
   ]
  },
  {
   "cell_type": "raw",
   "metadata": {},
   "source": [
    "Q111. Write a pandas program to count city-wise number of people from\n",
    "a given of data set (city, name of the person)?\n",
    "Sample data-\n",
    "city Number of people\n",
    "0 California 4\n",
    "1 Georgia 2\n",
    "2 Los Angeles 4"
   ]
  },
  {
   "cell_type": "raw",
   "metadata": {},
   "source": [
    "Q112. Write a pandas program to widen output display to see more\n",
    "columns?\n",
    "Sample data-\n",
    "Original data frame\n",
    "col1 col2 col3\n",
    "0 1 4 7\n",
    "1 4 5 8\n",
    "2 3 6 9\n",
    "3 4 7 0\n",
    "4 5 8 1"
   ]
  },
  {
   "cell_type": "raw",
   "metadata": {},
   "source": [
    "Q113. Write a pandas program to convert the data frame column type\n",
    "from string to DateTime?\n",
    "Sample data-\n",
    "String Date-\n",
    "0 3/11/2000\n",
    "1 3/12/2000\n",
    "2 3/13/2000\n",
    "dtype- object\n",
    "Original DataFrame (string to datetime)-\n",
    "0\n",
    "0 2000-03-11\n",
    "1 2000-03-12\n",
    "2 2000-03-13"
   ]
  },
  {
   "cell_type": "raw",
   "metadata": {},
   "source": [
    "Q114. Write a pandas program to append the data to an empty\n",
    "DataFrame?\n",
    "Sample data-\n",
    "Original DataFrame- After appending some data: col1 col2 0 0 0 1 1 1 2 2 2"
   ]
  },
  {
   "cell_type": "raw",
   "metadata": {},
   "source": [
    "Q115. Write a pandas program to count the number of columns of a\n",
    "DataFrame?\n",
    "Sample Output-\n",
    "Original DataFrame\n",
    "col1 col2 col3\n",
    "0 1 4 7\n",
    "1 2 5 8\n",
    "2 3 6 12\n",
    "3 4 9 1\n",
    "4 7 5 11\n",
    "Number of columns- 3"
   ]
  },
  {
   "cell_type": "raw",
   "metadata": {},
   "source": [
    "Q116. Write a Pandas program to remove the last n rows of a given\n",
    "DataFrame ?\n",
    "Sample Output:\n",
    "Original DataFrame\n",
    "col1 col2 col3\n",
    "0 1 4 7\n",
    "1 2 5 5\n",
    "2 3 6 8\n",
    "3 4 9 12\n",
    "4 7 5 1\n",
    "5 11 0 11\n",
    "After removing last 3 rows of the said DataFrame-\n",
    "col1 col2 col3\n",
    "0 1 4 7\n",
    "1 2 5 5\n",
    "2 3 6 8"
   ]
  },
  {
   "cell_type": "raw",
   "metadata": {},
   "source": [
    "Link for Datasets\n",
    "(https://drive.google.com/drive/folders/105ftuIwN9kqyPNEEm3E6IM7LqywjyvJa?usp=sharing)"
   ]
  },
  {
   "cell_type": "raw",
   "metadata": {},
   "source": [
    "Q117. Write a Pandas program to import excel data (coalpublic2013.xlsx\n",
    ") into a Pandas data frame."
   ]
  },
  {
   "cell_type": "raw",
   "metadata": {},
   "source": [
    "Q118. Write a Pandas program to import excel data (coalpublic2013.xlsx\n",
    ") into a data frame and find details where \"Mine Name\" starts with\n",
    "\"P."
   ]
  },
  {
   "cell_type": "raw",
   "metadata": {},
   "source": [
    "Q119. Write a Pandas program to import excel data (employee.xlsx )\n",
    "into a Pandas dataframe and find the list of employees where\n",
    "hire_date> 01-01-07."
   ]
  },
  {
   "cell_type": "raw",
   "metadata": {},
   "source": [
    "Q120. Write a Pandas program to import excel data (employee.xlsx )\n",
    "into a Pandas dataframe and find a list of the employees of a specified\n",
    "year"
   ]
  },
  {
   "cell_type": "raw",
   "metadata": {},
   "source": [
    "Q121. Write a pandas program to import three datasheets from a given\n",
    "excel data (coalpublic2013.xlsx ) in to a single dataframe.\n",
    "Note: Structure of three datasheets are same."
   ]
  },
  {
   "cell_type": "raw",
   "metadata": {},
   "source": [
    "Q 122. Write a pandas program to import three datasheets from a given\n",
    "excel data (employee.xlsx ) into a single data frame and export the\n",
    "result into new Excel file.\n",
    "Note: Structure of three datasheets are same."
   ]
  },
  {
   "cell_type": "raw",
   "metadata": {},
   "source": [
    "Q123. Write a pandas program to create the Pivot table with multiple\n",
    "indexes from the data set of the titanic.csv."
   ]
  },
  {
   "cell_type": "raw",
   "metadata": {},
   "source": [
    "Q124. Write a Pandas program to create the Pivot table and find survival\n",
    "rate by gender?"
   ]
  },
  {
   "cell_type": "raw",
   "metadata": {},
   "source": [
    "Q125. Write a pandas program to make partition each of the passengers\n",
    "into 4 categories based on their age.\n",
    "Note: Age categories- (0, 10), (10, 30), (30, 60), (60, 80)"
   ]
  },
  {
   "cell_type": "raw",
   "metadata": {},
   "source": [
    "Q126. Write a pandas program to create the Pivot table and find survival\n",
    "rate by the gender, age of the different categories of various\n",
    "classes."
   ]
  },
  {
   "cell_type": "raw",
   "metadata": {},
   "source": [
    "Q127. Write a pandas program to create the Pivot table and calculate\n",
    "number of women and men were in a particular cabin class."
   ]
  },
  {
   "cell_type": "raw",
   "metadata": {},
   "source": [
    "Q128. Write a pandas program to create the Pivot table and separate\n",
    "the gender according to whether they travelled alone or not to get\n",
    "the probability of survival"
   ]
  },
  {
   "cell_type": "raw",
   "metadata": {},
   "source": [
    "Q129. Write a pandas program to create the Pivot table and find the\n",
    "probability of survival by class, gender, solo boarding, and the port\n",
    "of embarkation."
   ]
  },
  {
   "cell_type": "raw",
   "metadata": {},
   "source": [
    "Q130. Write a pandas program to get current date, oldest date and\n",
    "number of days between Current date and the oldest date of Ufo\n",
    "dataset."
   ]
  },
  {
   "cell_type": "raw",
   "metadata": {},
   "source": [
    "Q131. Write a pandas program to get all sighting days of the\n",
    "unidentified flying object (ufo) between 1950-10-10 and 1960-10-\n",
    "10."
   ]
  },
  {
   "cell_type": "raw",
   "metadata": {},
   "source": [
    "Q132. Write a Pandas program to extract the year, month, day, hour,\n",
    "minute, second, and weekday from unidentified flying object (UFO)\n",
    "reporting date."
   ]
  },
  {
   "cell_type": "raw",
   "metadata": {},
   "source": [
    "Q133. Write a pandas program to count year-country wise frequency of\n",
    "reporting dates of the unidentified flying object(UFO)."
   ]
  },
  {
   "cell_type": "raw",
   "metadata": {},
   "source": [
    "Q134. Write a pandas program to get the difference (in days) between\n",
    "documented date and reporting date of unidentified flying object\n",
    "(UFO)."
   ]
  },
  {
   "cell_type": "raw",
   "metadata": {},
   "source": [
    "Q135. Write a pandas program to generate sequences of fixed-\n",
    "frequency dates and time spans."
   ]
  },
  {
   "cell_type": "raw",
   "metadata": {},
   "source": [
    "Q136. Write a pandas program to manipulate and convert date times\n",
    "with timezone information."
   ]
  },
  {
   "cell_type": "raw",
   "metadata": {},
   "source": [
    "Q137. Write a pandas program to create the graphical analysis of UFO\n",
    "(unidentified flying object) Sightings year."
   ]
  },
  {
   "cell_type": "raw",
   "metadata": {},
   "source": [
    "Q138. Write a pandas program to create a comparison of the top 10\n",
    "years in which the (UFO) was sighted VS each Month."
   ]
  },
  {
   "cell_type": "raw",
   "metadata": {},
   "source": [
    "Q139. Write a pandas program to create a heatmap (rectangular data as\n",
    "a colour-encoded matrix) for comparison of top 10 years in\n",
    "which (UFO ) was sighted VS each Month."
   ]
  },
  {
   "cell_type": "raw",
   "metadata": {},
   "source": [
    "Q140. Write a pandas program to create a Timewheel of Hour VS Year\n",
    "comparison of the top 10 years in which the (UFO) was sighted."
   ]
  },
  {
   "cell_type": "raw",
   "metadata": {},
   "source": [
    "Q141. Write a python program to draw the line using given axis values\n",
    "with the suitable label in the x-axis, y-axis, and a title."
   ]
  },
  {
   "attachments": {
    "image.png": {
     "image/png": "[encoded data removed]"
    }
   },
   "cell_type": "markdown",
   "metadata": {},
   "source": [
    "![image.png](attachment:image.png)"
   ]
  },
  {
   "cell_type": "raw",
   "metadata": {},
   "source": [
    "142. Write a python program to draw the line charts of the financial\n",
    "data of the Alphabet Inc., between October.\n",
    "3, 2016 to October 7 2016.\n",
    "Sample Financial data (fdata.csv)-\n",
    "Date,Open,High,Low,Close\n",
    "10-03-16,774.25,776.065002,769.5,772.559998\n",
    "10-04-16 , 776.030029, 778.710022,772.890015,776.429993\n",
    "10-05-16 , 779.309998, 782.070007,775.650024,776.469971\n",
    "10-06-16 , 779 , 780.47998,775.539978,776.859985\n",
    "10-07-16,779.659973, 779.659973 , 770.75 , 775.080017\n",
    "The code snippet gives the output shown in the screenshot:"
   ]
  },
  {
   "attachments": {
    "image.png": {
     "image/png": "[encoded data removed]"
    }
   },
   "cell_type": "markdown",
   "metadata": {},
   "source": [
    "![image.png](attachment:image.png)"
   ]
  },
  {
   "cell_type": "raw",
   "metadata": {},
   "source": [
    "Q143. Write a Python program to plot two or more lines on same plot\n",
    "with the suitable legends of each line.\n",
    "The code snippet gives the output shown in the screenshot:"
   ]
  },
  {
   "attachments": {
    "image.png": {
     "image/png": "[encoded data removed]"
    }
   },
   "cell_type": "markdown",
   "metadata": {},
   "source": [
    "![image.png](attachment:image.png)"
   ]
  },
  {
   "cell_type": "raw",
   "metadata": {},
   "source": [
    "Q144. Write a python programming to display a bar chart of the\n",
    "popularity of programming languages.\n",
    "Sample data:\n",
    "programming languages- Java, Python, PHP, JavaScript, C#, C++\n",
    "Popularity- 22.2, 17.6, 8.8, 8, 7.7 , 6.7\n",
    "The code snippet gives the output shown in the screenshot:"
   ]
  },
  {
   "attachments": {
    "image.png": {
     "image/png": "[encoded data removed]"
    }
   },
   "cell_type": "markdown",
   "metadata": {},
   "source": [
    "![image.png](attachment:image.png)"
   ]
  },
  {
   "cell_type": "raw",
   "metadata": {},
   "source": [
    "Q145. Write a python programming to display a horizontal bar chart of\n",
    "the popularity of programming languages.\n",
    "Sample data:\n",
    "programming languages- Java, Python, PHP, JavaScript, C#, C++\n",
    "Popularity- 22.2, 17.6, 8.8, 8, 7.7 , 6.7\n",
    "The code snippet gives the output shown in the screenshot:"
   ]
  },
  {
   "attachments": {
    "image.png": {
     "image/png": "[encoded data removed]"
    }
   },
   "cell_type": "markdown",
   "metadata": {},
   "source": [
    "![image.png](attachment:image.png)"
   ]
  },
  {
   "cell_type": "raw",
   "metadata": {},
   "source": [
    "Q146. Write a python programming to display a bar chart of the\n",
    "Popularity of programming languages. Increase bottom margin.\n",
    "Sample data:\n",
    "programming languages: Java, Python, PHP, JavaScript, C#, C++\n",
    "Popularity: 22.2, 17.6, 8.8, 8, 7.7 , 6.7\n",
    "The code snippet gives the output shown in the screenshot:"
   ]
  },
  {
   "attachments": {
    "image.png": {
     "image/png": "[encoded data removed]"
    }
   },
   "cell_type": "markdown",
   "metadata": {},
   "source": [
    "![image.png](attachment:image.png)"
   ]
  },
  {
   "cell_type": "raw",
   "metadata": {},
   "source": [
    "Q147. Write a python program to create the bar plot from a DataFrame.\n",
    "a b c d e\n",
    "2 4,8,5,7,6\n",
    "4 2,3,4,2,6\n",
    "6 4,7,4,7, 8\n",
    "8 2,6,4,8, 6\n",
    "10 2,4,3,3, 2\n",
    "The code snippet gives the output shown in the following screenshot:"
   ]
  },
  {
   "attachments": {
    "image.png": {
     "image/png": "[encoded data removed]"
    }
   },
   "cell_type": "markdown",
   "metadata": {},
   "source": [
    "![image.png](attachment:image.png)"
   ]
  },
  {
   "cell_type": "raw",
   "metadata": {},
   "source": [
    "Q148. Write a python program to draw the scatter plot comparing two\n",
    "subject marks of Mathematics and Science. Use marks of 10 students.\n",
    "Sample data:\n",
    "Test Data-\n",
    "math_marks = [88, 92 , 80, 89, 100, 80, 60, 100, 80, 34]\n",
    "science_marks = [35, 79, 79 , 48, 100, 88, 32, 45, 20, 30]\n",
    "marks_range = [10, 20, 30, 40, 50, 60, 70, 80, 90, 100]"
   ]
  },
  {
   "attachments": {
    "image.png": {
     "image/png": "[encoded data removed]"
    }
   },
   "cell_type": "markdown",
   "metadata": {},
   "source": [
    "![image.png](attachment:image.png)"
   ]
  },
  {
   "cell_type": "raw",
   "metadata": {},
   "source": [
    "Q149. Write a python program to draw the scatter plot for three different\n",
    "groups comparing weights and heights.\n",
    "The output shown in the screenshot:"
   ]
  },
  {
   "attachments": {
    "image.png": {
     "image/png": "[encoded data removed]"
    }
   },
   "cell_type": "markdown",
   "metadata": {},
   "source": [
    "![image.png](attachment:image.png)"
   ]
  },
  {
   "cell_type": "raw",
   "metadata": {},
   "source": [
    "Q150. Write a python program to draw a scatter plot to find sea-level\n",
    "rise in past 100 years.\n",
    "The output shown in the screenshot:"
   ]
  },
  {
   "attachments": {
    "image.png": {
     "image/png": "[encoded data removed]"
    }
   },
   "cell_type": "markdown",
   "metadata": {},
   "source": [
    "![image.png](attachment:image.png)"
   ]
  }
 ],
 "metadata": {
  "kernelspec": {
   "display_name": "Python 3",
   "language": "python",
   "name": "python3"
  },
  "language_info": {
   "codemirror_mode": {
    "name": "ipython",
    "version": 3
   },
   "file_extension": ".py",
   "mimetype": "text/x-python",
   "name": "python",
   "nbconvert_exporter": "python",
   "pygments_lexer": "ipython3",
   "version": "3.7.4"
  }
 },
 "nbformat": 4,
 "nbformat_minor": 2
}
